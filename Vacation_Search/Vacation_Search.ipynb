{
 "cells": [
  {
   "cell_type": "code",
   "execution_count": 2,
   "id": "08287d32",
   "metadata": {},
   "outputs": [
    {
     "data": {
      "text/html": [
       "<div>\n",
       "<style scoped>\n",
       "    .dataframe tbody tr th:only-of-type {\n",
       "        vertical-align: middle;\n",
       "    }\n",
       "\n",
       "    .dataframe tbody tr th {\n",
       "        vertical-align: top;\n",
       "    }\n",
       "\n",
       "    .dataframe thead th {\n",
       "        text-align: right;\n",
       "    }\n",
       "</style>\n",
       "<table border=\"1\" class=\"dataframe\">\n",
       "  <thead>\n",
       "    <tr style=\"text-align: right;\">\n",
       "      <th></th>\n",
       "      <th>City ID</th>\n",
       "      <th>City</th>\n",
       "      <th>Country</th>\n",
       "      <th>Lat</th>\n",
       "      <th>Lng</th>\n",
       "      <th>Max Temp</th>\n",
       "      <th>Humidity</th>\n",
       "      <th>Cloudiness</th>\n",
       "      <th>Wind Speed</th>\n",
       "      <th>Current Description</th>\n",
       "    </tr>\n",
       "  </thead>\n",
       "  <tbody>\n",
       "    <tr>\n",
       "      <th>0</th>\n",
       "      <td>0</td>\n",
       "      <td>bambous virieux</td>\n",
       "      <td>MU</td>\n",
       "      <td>-20.3428</td>\n",
       "      <td>57.7575</td>\n",
       "      <td>74.21</td>\n",
       "      <td>88</td>\n",
       "      <td>75</td>\n",
       "      <td>3.44</td>\n",
       "      <td>broken clouds</td>\n",
       "    </tr>\n",
       "    <tr>\n",
       "      <th>1</th>\n",
       "      <td>1</td>\n",
       "      <td>bredasdorp</td>\n",
       "      <td>ZA</td>\n",
       "      <td>-34.5322</td>\n",
       "      <td>20.0403</td>\n",
       "      <td>60.12</td>\n",
       "      <td>82</td>\n",
       "      <td>0</td>\n",
       "      <td>2.30</td>\n",
       "      <td>clear sky</td>\n",
       "    </tr>\n",
       "    <tr>\n",
       "      <th>2</th>\n",
       "      <td>2</td>\n",
       "      <td>dingle</td>\n",
       "      <td>PH</td>\n",
       "      <td>10.9995</td>\n",
       "      <td>122.6711</td>\n",
       "      <td>83.26</td>\n",
       "      <td>76</td>\n",
       "      <td>88</td>\n",
       "      <td>8.14</td>\n",
       "      <td>overcast clouds</td>\n",
       "    </tr>\n",
       "    <tr>\n",
       "      <th>3</th>\n",
       "      <td>3</td>\n",
       "      <td>igrim</td>\n",
       "      <td>RU</td>\n",
       "      <td>63.1906</td>\n",
       "      <td>64.4162</td>\n",
       "      <td>-0.54</td>\n",
       "      <td>98</td>\n",
       "      <td>82</td>\n",
       "      <td>5.08</td>\n",
       "      <td>broken clouds</td>\n",
       "    </tr>\n",
       "    <tr>\n",
       "      <th>4</th>\n",
       "      <td>4</td>\n",
       "      <td>qaanaaq</td>\n",
       "      <td>GL</td>\n",
       "      <td>77.4840</td>\n",
       "      <td>-69.3632</td>\n",
       "      <td>-10.19</td>\n",
       "      <td>71</td>\n",
       "      <td>30</td>\n",
       "      <td>7.70</td>\n",
       "      <td>scattered clouds</td>\n",
       "    </tr>\n",
       "  </tbody>\n",
       "</table>\n",
       "</div>"
      ],
      "text/plain": [
       "   City ID             City Country      Lat       Lng  Max Temp  Humidity  \\\n",
       "0        0  bambous virieux      MU -20.3428   57.7575     74.21        88   \n",
       "1        1       bredasdorp      ZA -34.5322   20.0403     60.12        82   \n",
       "2        2           dingle      PH  10.9995  122.6711     83.26        76   \n",
       "3        3            igrim      RU  63.1906   64.4162     -0.54        98   \n",
       "4        4          qaanaaq      GL  77.4840  -69.3632    -10.19        71   \n",
       "\n",
       "   Cloudiness  Wind Speed Current Description  \n",
       "0          75        3.44       broken clouds  \n",
       "1           0        2.30           clear sky  \n",
       "2          88        8.14     overcast clouds  \n",
       "3          82        5.08       broken clouds  \n",
       "4          30        7.70    scattered clouds  "
      ]
     },
     "execution_count": 2,
     "metadata": {},
     "output_type": "execute_result"
    }
   ],
   "source": [
    "from IPython.core.interactiveshell import InteractiveShell\n",
    "InteractiveShell.ast_node_interactivity = \"all\"\n",
    "import pandas as pd\n",
    "import requests as r\n",
    "from Config2 import gkey\n",
    "import json\n",
    "\n",
    "city_data_df = pd.read_csv('../Weather_Database/WeatherPy_Database.csv')\n",
    "city_data_df.head()\n",
    "city_data_df = city_data_df.set_index('City ID')"
   ]
  },
  {
   "cell_type": "code",
   "execution_count": null,
   "id": "ffca816d",
   "metadata": {},
   "outputs": [],
   "source": [
    "min_temp = float(input('What is your minimum tolerable temperature?'))\n",
    "max_temp = float(input('What is your maximum tolerable temperature?'))"
   ]
  },
  {
   "cell_type": "code",
   "execution_count": null,
   "id": "a6cdb0e4",
   "metadata": {},
   "outputs": [],
   "source": [
    "preferred_temp_cities_df = city_data_df.loc[(city_data_df['Max Temp'] >= min_temp)&\n",
    "                                           (city_data_df['Max Temp'] <= max_temp)]\n"
   ]
  },
  {
   "cell_type": "code",
   "execution_count": null,
   "id": "cefc10d9",
   "metadata": {},
   "outputs": [],
   "source": [
    "preferred_temp_cities_df.head()"
   ]
  },
  {
   "cell_type": "code",
   "execution_count": null,
   "id": "77ba4655",
   "metadata": {},
   "outputs": [],
   "source": [
    "preferred_temp_cities_df.isnull().any()"
   ]
  },
  {
   "cell_type": "code",
   "execution_count": null,
   "id": "336eae0e",
   "metadata": {},
   "outputs": [],
   "source": [
    "preferred_temp_cities_df = preferred_temp_cities_df.dropna()\n",
    "preferred_temp_cities_df.isnull().any()\n",
    "preferred_temp_cities_df.count()"
   ]
  },
  {
   "cell_type": "code",
   "execution_count": 3,
   "id": "00c48e97",
   "metadata": {},
   "outputs": [],
   "source": [
    "import gmaps\n",
    "gmaps.configure(api_key=gkey)"
   ]
  },
  {
   "cell_type": "code",
   "execution_count": null,
   "id": "a5fcbde8",
   "metadata": {
    "scrolled": true
   },
   "outputs": [],
   "source": [
    "hotel_df = preferred_temp_cities_df[['City', 'Country', 'Max Temp', 'Lat', 'Lng', 'Current Description']].copy()\n",
    "hotel_df['Hotel Name'] = ''\n",
    "hotel_df = hotel_df.drop_duplicates('City')\n",
    "hotel_df\n",
    "payload = {\"radius\": 5000, \"type\": \"lodging\", \"key\": gkey}\n",
    "# base_url = 'https://maps.googleapis.com/maps/api/place/nearbysearch/json'\n",
    "# hotel = r.get(base_url, params=payload).json()\n",
    "# print(json.dumps(hotel, indent=4, sort_keys=True))\n"
   ]
  },
  {
   "cell_type": "code",
   "execution_count": null,
   "id": "7e11be1f",
   "metadata": {},
   "outputs": [],
   "source": [
    "for i, row in hotel_df.iterrows():\n",
    "    city = row['City']\n",
    "    lat = row['Lat']\n",
    "    lng = row['Lng']\n",
    "    location = f'{lat},{lng}'\n",
    "    payload['location'] = location\n",
    "    hotel = r.get(base_url, params=payload).json()\n",
    "    print(f'Getting data for {city}')\n",
    "    try:\n",
    "        hotel_df.loc[i,'Hotel Name'] = hotel['results'][0]['name']\n",
    "    except IndexError:\n",
    "        print('No hotel nearby, moving on...')\n",
    "        pass\n",
    "    "
   ]
  },
  {
   "cell_type": "code",
   "execution_count": null,
   "id": "5449307f",
   "metadata": {
    "scrolled": true
   },
   "outputs": [],
   "source": [
    "hotel_df\n",
    "hotel_df['City'] = hotel_df['City'].str.capitalize()\n",
    "hotel_df.isnull().any()"
   ]
  },
  {
   "cell_type": "code",
   "execution_count": null,
   "id": "0367b54c",
   "metadata": {},
   "outputs": [],
   "source": [
    "#code refactored from https://www.kite.com/python/answers/how-to-drop-empty-rows-from-a-pandas-dataframe-in-python\n",
    "hotel_df.replace(\"\", nan_value, inplace=True)\n",
    "\n",
    "hotel_df.dropna(how='any', inplace=True)"
   ]
  },
  {
   "cell_type": "code",
   "execution_count": null,
   "id": "29772572",
   "metadata": {},
   "outputs": [],
   "source": [
    "hotel_df"
   ]
  },
  {
   "cell_type": "code",
   "execution_count": null,
   "id": "461e02b2",
   "metadata": {},
   "outputs": [],
   "source": [
    "hotel_df.to_csv('WeatherPy_vacation.csv')"
   ]
  },
  {
   "cell_type": "code",
   "execution_count": 5,
   "id": "d0b97721",
   "metadata": {},
   "outputs": [
    {
     "data": {
      "application/vnd.jupyter.widget-view+json": {
       "model_id": "bca973c9d2ad4174ae01ad5a25d6bf28",
       "version_major": 2,
       "version_minor": 0
      },
      "text/plain": [
       "Figure(layout=FigureLayout(height='420px'))"
      ]
     },
     "metadata": {},
     "output_type": "display_data"
    }
   ],
   "source": [
    "hotel_df = pd.read_csv('WeatherPy_vacation.csv')\n",
    "info_box_template = \"\"\"\n",
    "<dl>\n",
    "<dt>Hotel Name</dt><dd>{Hotel Name}</dd>\n",
    "<dt>City</dt><dd>{City}</dd>\n",
    "<dt>Country</dt><dd>{Country}</dd>\n",
    "<dt>Current Weather</dt><dd>{Current Description} and {Max Temp} °F</dd>\n",
    "</dl>\n",
    "\"\"\"\n",
    "fig = gmaps.figure()\n",
    "marker_locations = hotel_df[['Lat', 'Lng']]\n",
    "hotel_info = [info_box_template.format(**row) for i, row in hotel_df.iterrows()]\n",
    "markers = gmaps.marker_layer(marker_locations, info_box_content=hotel_info)\n",
    "fig.add_layer(markers)\n",
    "fig"
   ]
  },
  {
   "cell_type": "code",
   "execution_count": null,
   "id": "7113d7ac",
   "metadata": {},
   "outputs": [],
   "source": []
  }
 ],
 "metadata": {
  "kernelspec": {
   "display_name": "PythonData",
   "language": "python",
   "name": "pythondata"
  },
  "language_info": {
   "codemirror_mode": {
    "name": "ipython",
    "version": 3
   },
   "file_extension": ".py",
   "mimetype": "text/x-python",
   "name": "python",
   "nbconvert_exporter": "python",
   "pygments_lexer": "ipython3",
   "version": "3.7.11"
  }
 },
 "nbformat": 4,
 "nbformat_minor": 5
}
