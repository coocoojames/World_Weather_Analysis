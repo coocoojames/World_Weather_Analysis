{
 "cells": [
  {
   "cell_type": "code",
   "execution_count": 14,
   "id": "a0f27f5f",
   "metadata": {},
   "outputs": [
    {
     "name": "stdout",
     "output_type": "stream",
     "text": [
      "25.12903645 -67.59741259\n",
      "25.92017388 11.09532135\n",
      "26.62509167 74.84233102\n",
      "-59.98969384 -76.89176677\n",
      "37.30571269 -61.13376282\n"
     ]
    },
    {
     "data": {
      "text/plain": [
       "<zip at 0x1dfc17e5648>"
      ]
     },
     "execution_count": 14,
     "metadata": {},
     "output_type": "execute_result"
    }
   ],
   "source": [
    "from IPython.core.interactiveshell import InteractiveShell\n",
    "InteractiveShell.ast_node_interactivity = \"all\"\n",
    "x = [25.12903645, 25.92017388, 26.62509167, -59.98969384, 37.30571269]\n",
    "y = [-67.59741259, 11.09532135, 74.84233102, -76.89176677, -61.13376282]\n",
    "coordinates = zip(x, y)\n",
    "\n",
    "for coordinate in coordinates:\n",
    "    print(coordinate[0], coordinate[1])\n",
    "coordinates"
   ]
  },
  {
   "cell_type": "code",
   "execution_count": 15,
   "id": "942b16c5",
   "metadata": {},
   "outputs": [],
   "source": [
    "import requests\n",
    "# requests.__version__"
   ]
  },
  {
   "cell_type": "code",
   "execution_count": 16,
   "id": "df8b910b",
   "metadata": {},
   "outputs": [
    {
     "name": "stdout",
     "output_type": "stream",
     "text": [
      "http://api.openweathermap.org/data/2.5/weather?units=Imperial&APPID=f6b3b3f70dceaf748f16d2dac2b17ae4\n",
      "http://api.openweathermap.org/data/2.5/weather?units=Imperial&APPID=f6b3b3f70dceaf748f16d2dac2b17ae4&q=Boston\n"
     ]
    }
   ],
   "source": [
    "from Config import api_key\n",
    "url = \"http://api.openweathermap.org/data/2.5/weather?units=Imperial&APPID=\" + api_key\n",
    "print(url)\n",
    "city_url = url + \"&q=\" + 'Boston'\n",
    "print(city_url)"
   ]
  },
  {
   "cell_type": "code",
   "execution_count": 17,
   "id": "41d5f301",
   "metadata": {},
   "outputs": [
    {
     "data": {
      "text/plain": [
       "{'type': 2,\n",
       " 'id': 2013408,\n",
       " 'country': 'US',\n",
       " 'sunrise': 1643284958,\n",
       " 'sunset': 1643320268}"
      ]
     },
     "execution_count": 17,
     "metadata": {},
     "output_type": "execute_result"
    },
    {
     "data": {
      "text/plain": [
       "1643323898"
      ]
     },
     "execution_count": 17,
     "metadata": {},
     "output_type": "execute_result"
    }
   ],
   "source": [
    "r = requests\n",
    "city_weather = r.get(city_url)\n",
    "# if city_weather.status_code == 200:\n",
    "#     print(f\"City Weather found.\")\n",
    "# else:\n",
    "#     print(f\"City weather not found.\")\n",
    "Boston_weather = city_weather.json()\n",
    "Boston_weather['sys']\n",
    "Boston_weather['dt']"
   ]
  },
  {
   "cell_type": "code",
   "execution_count": 18,
   "id": "63e4533a",
   "metadata": {},
   "outputs": [
    {
     "data": {
      "text/plain": [
       "'2022-01-27 22:51:38'"
      ]
     },
     "execution_count": 18,
     "metadata": {},
     "output_type": "execute_result"
    }
   ],
   "source": [
    "import time\n",
    "from datetime import datetime\n",
    "import numpy as np\n",
    "from citipy import citipy as cpy\n",
    "date = Boston_weather['dt']\n",
    "datetime.utcfromtimestamp(date).strftime('%Y-%m-%d %H:%M:%S')"
   ]
  },
  {
   "cell_type": "code",
   "execution_count": 19,
   "id": "2c4249d0",
   "metadata": {},
   "outputs": [
    {
     "data": {
      "text/plain": [
       "['barbar',\n",
       " 'biltine',\n",
       " 'port alfred',\n",
       " 'mangrol',\n",
       " 'barretos',\n",
       " 'vardo',\n",
       " 'krasnyy',\n",
       " 'camacha',\n",
       " 'vikevag',\n",
       " 'grindavik',\n",
       " 'sorland',\n",
       " 'naantali',\n",
       " 'upernavik',\n",
       " 'illoqqortoormiut',\n",
       " 'marsabit',\n",
       " 'jamestown',\n",
       " 'carauari',\n",
       " 'barra do garcas',\n",
       " 'clyde river',\n",
       " 'coquimbo',\n",
       " 'amderma',\n",
       " 'ushuaia',\n",
       " 'bayji',\n",
       " 'cape town',\n",
       " 'plettenberg bay',\n",
       " 'saint-philippe',\n",
       " 'punta arenas',\n",
       " 'anage',\n",
       " 'chuy',\n",
       " 'oksovskiy',\n",
       " 'corinto',\n",
       " 'kuopio',\n",
       " 'ruhengeri',\n",
       " 'maragogi',\n",
       " 'victoria',\n",
       " 'korla',\n",
       " 'nantucket',\n",
       " 'mehamn',\n",
       " 'hermanus',\n",
       " 'mahibadhoo',\n",
       " 'paamiut',\n",
       " 'brae',\n",
       " 'iqaluit',\n",
       " 'kirkcudbright',\n",
       " 'loralai',\n",
       " 'alta floresta',\n",
       " 'port blair',\n",
       " 'pedernales',\n",
       " 'cartagena',\n",
       " 'vila do maio',\n",
       " 'bredasdorp',\n",
       " 'nouakchott',\n",
       " 'kavaratti',\n",
       " 'petrozavodsk',\n",
       " 'nuuk',\n",
       " 'skalistyy',\n",
       " 'emba',\n",
       " 'saint-marc',\n",
       " 'thompson',\n",
       " 'aquiraz',\n",
       " 'nizwa',\n",
       " 'begun',\n",
       " 'taolanaro',\n",
       " 'lebu',\n",
       " 'adrar',\n",
       " 'terre haute',\n",
       " 'east london',\n",
       " 'busselton',\n",
       " 'jujuy',\n",
       " 'hithadhoo',\n",
       " 'valkeala',\n",
       " 'marcona',\n",
       " 'marzuq',\n",
       " 'ponta do sol',\n",
       " 'sambava',\n",
       " 'arraial do cabo',\n",
       " 'cockburn town',\n",
       " 'vila franca do campo',\n",
       " 'czluchow',\n",
       " 'tasiilaq',\n",
       " 'talnakh',\n",
       " 'barentsburg',\n",
       " 'agsu',\n",
       " 'bondo',\n",
       " 'bengkulu',\n",
       " 'dikson',\n",
       " 'bhum',\n",
       " 'malanje',\n",
       " 'espinho',\n",
       " 'longyearbyen',\n",
       " 'mar del plata',\n",
       " 'carnarvon',\n",
       " 'novyy urengoy',\n",
       " 'awbari',\n",
       " 'itarema',\n",
       " 'koksovyy',\n",
       " 'qaanaaq',\n",
       " 'belushya guba',\n",
       " 'klaksvik',\n",
       " 'barauna',\n",
       " 'georgetown',\n",
       " 'jahrom',\n",
       " 'sept-iles',\n",
       " 'vangaindrano',\n",
       " 'eyl',\n",
       " 'songea',\n",
       " 'juquia',\n",
       " 'gobardanga',\n",
       " 'saint george',\n",
       " 'lobito',\n",
       " 'vilhena',\n",
       " 'pisco',\n",
       " 'cayenne',\n",
       " 'mazagao',\n",
       " 'saldanha',\n",
       " 'salalah',\n",
       " 'japura',\n",
       " 'sechura',\n",
       " 'codrington',\n",
       " 'cidreira',\n",
       " 'kruisfontein',\n",
       " 'abreus',\n",
       " 'souillac',\n",
       " 'aasiaat',\n",
       " 'dipkarpaz',\n",
       " 'dharchula',\n",
       " 'lerwick',\n",
       " 'madimba',\n",
       " 'port-gentil',\n",
       " 'edd',\n",
       " 'yazd',\n",
       " 'ribeira grande',\n",
       " 'malazgirt',\n",
       " 'lodwar',\n",
       " 'zhanaozen',\n",
       " 'muravlenko',\n",
       " 'reconquista',\n",
       " 'conde',\n",
       " 'luau',\n",
       " 'matagami',\n",
       " 'hualmay',\n",
       " 'presidente epitacio',\n",
       " 'vila velha',\n",
       " 'mahebourg',\n",
       " 'karaton',\n",
       " 'chimbote',\n",
       " 'port elizabeth',\n",
       " 'varhaug',\n",
       " 'alcazar de san juan',\n",
       " 'mancio lima',\n",
       " 'havoysund',\n",
       " 'koyilandi',\n",
       " 'rawah',\n",
       " 'tumannyy',\n",
       " 'kirkwall',\n",
       " 'riyadh',\n",
       " 'veraval',\n",
       " 'gulshat',\n",
       " 'ponta delgada',\n",
       " 'harwich',\n",
       " 'marystown',\n",
       " 'caravelas',\n",
       " 'narsaq',\n",
       " 'nikolsk',\n",
       " 'goderich',\n",
       " 'ancud',\n",
       " 'bathsheba',\n",
       " 'thinadhoo',\n",
       " 'barreirinha',\n",
       " 'oktyabrskoye',\n",
       " 'moussoro',\n",
       " 'jumla',\n",
       " 'kayerkan',\n",
       " 'attawapiskat',\n",
       " 'laguna',\n",
       " 'saint-francois',\n",
       " 'duekoue',\n",
       " 'inirida',\n",
       " 'puerto baquerizo moreno',\n",
       " 'yabrud',\n",
       " 'samana',\n",
       " 'abha',\n",
       " 'lagoa',\n",
       " 'takoradi',\n",
       " 'santa cruz del sur',\n",
       " 'villa del rosario',\n",
       " 'sioux lookout',\n",
       " 'nanyuki',\n",
       " 'mykhaylivka',\n",
       " 'burica',\n",
       " 'pio ix',\n",
       " 'henties bay',\n",
       " 'turukhansk',\n",
       " 'tsihombe',\n",
       " 'sovetskiy',\n",
       " 'xudat',\n",
       " 'tessalit',\n",
       " 'siderno',\n",
       " 'koygorodok',\n",
       " 'rodrigues alves',\n",
       " 'rabat',\n",
       " 'granada',\n",
       " 'man',\n",
       " 'cape coast',\n",
       " 'kamenka',\n",
       " 'coihaique',\n",
       " 'hamilton',\n",
       " 'sisimiut',\n",
       " 'asilah',\n",
       " 'faya',\n",
       " 'tubruq',\n",
       " 'puerto montt',\n",
       " 'penzance',\n",
       " 'marsa matruh',\n",
       " 'tombouctou',\n",
       " 'magomeni',\n",
       " 'porto santo',\n",
       " 'hofn',\n",
       " 'plouzane',\n",
       " 'senanga',\n",
       " 'torbay',\n",
       " 'rawson',\n",
       " 'beyneu',\n",
       " 'fenoarivo',\n",
       " 'sena madureira',\n",
       " 'alexandria',\n",
       " 'vondrozo',\n",
       " 'bambous virieux',\n",
       " 'dingle',\n",
       " 'rochegda',\n",
       " 'bakel',\n",
       " 'padilla',\n",
       " 'tarauaca',\n",
       " 'saint-joseph',\n",
       " 'barra patuca',\n",
       " 'castro',\n",
       " 'skibbereen',\n",
       " 'remanso',\n",
       " 'muktsar',\n",
       " 'taltal',\n",
       " 'ugoofaaru',\n",
       " 'sinkat',\n",
       " 'albany',\n",
       " 'campo grande',\n",
       " 'bandarbeyla',\n",
       " 'omboue',\n",
       " 'togur',\n",
       " 'nanortalik',\n",
       " 'marsh harbour',\n",
       " 'gornopravdinsk',\n",
       " 'vyshestebliyevskaya',\n",
       " 'antofagasta',\n",
       " 'smolensk',\n",
       " 'pointe michel',\n",
       " 'svetlyy',\n",
       " 'chapais',\n",
       " 'husavik',\n",
       " 'solhan',\n",
       " 'rocha',\n",
       " 'viligili',\n",
       " 'kiruna',\n",
       " 'namibe',\n",
       " 'pitimbu',\n",
       " 'jaque',\n",
       " 'inhambane',\n",
       " 'barra do corda',\n",
       " 'waddan',\n",
       " 'rockland',\n",
       " 'roald',\n",
       " 'coshocton',\n",
       " 'muisne',\n",
       " 'knysna',\n",
       " 'yenagoa',\n",
       " 'wellingborough',\n",
       " 'viedma',\n",
       " 'rovaniemi',\n",
       " 'afonso bezerra',\n",
       " 'aksu',\n",
       " 'umm durman',\n",
       " 'harlingen',\n",
       " 'afsin',\n",
       " 'kuznechnoye',\n",
       " 'uyuni',\n",
       " 'toliary',\n",
       " 'calvinia',\n",
       " 'saint anthony',\n",
       " 'chato',\n",
       " 'sol-iletsk',\n",
       " 'quatre cocos',\n",
       " 'mbeya',\n",
       " 'discovery bay',\n",
       " 'grand gaube',\n",
       " 'mbandaka',\n",
       " 'arlit',\n",
       " 'cordoba',\n",
       " 'salym',\n",
       " 'luis correia',\n",
       " 'luanda',\n",
       " 'san pedro',\n",
       " 'karkaralinsk',\n",
       " 'ambilobe',\n",
       " 'punta alta',\n",
       " 'monopoli',\n",
       " 'lubango',\n",
       " 'sao joao da barra',\n",
       " 'walvis bay',\n",
       " 'harrisonburg',\n",
       " 'kalmunai',\n",
       " 'gobabis',\n",
       " 'olinda',\n",
       " 'saurimo',\n",
       " 'matara',\n",
       " 'trairi',\n",
       " 'areia branca',\n",
       " 'nouadhibou',\n",
       " 'nyagan',\n",
       " 'los llanos de aridane',\n",
       " 'phalombe',\n",
       " 'magnitogorsk',\n",
       " 'bull savanna',\n",
       " 'umm kaddadah',\n",
       " 'salem',\n",
       " 'grand river south east',\n",
       " 'buta',\n",
       " 'yelan',\n",
       " 'eydhafushi',\n",
       " 'vytegra',\n",
       " 'umzimvubu',\n",
       " 'elizabeth city',\n",
       " 'trinidad',\n",
       " 'tulln',\n",
       " 'udankudi',\n",
       " 'zhezkazgan',\n",
       " 'danville',\n",
       " 'mao',\n",
       " 'nadym',\n",
       " 'sabya',\n",
       " 'camana',\n",
       " 'bethanien',\n",
       " 'halifax',\n",
       " 'nhlangano',\n",
       " 'eganville',\n",
       " 'malmesbury',\n",
       " 'kjollefjord',\n",
       " 'atar',\n",
       " 'kasongo-lunda',\n",
       " 'sorvag',\n",
       " 'itacoatiara',\n",
       " 'tunduru',\n",
       " 'raudeberg',\n",
       " 'adre',\n",
       " 'yeletskiy',\n",
       " 'atasu',\n",
       " 'tandil',\n",
       " 'batsfjord',\n",
       " 'izhma',\n",
       " 'durazno',\n",
       " 'agadir',\n",
       " 'torzhok',\n",
       " 'jacareacanga',\n",
       " 'barcelos',\n",
       " 'shambu',\n",
       " 'kargasok',\n",
       " 'stephenville',\n",
       " 'barwadih',\n",
       " 'mollendo',\n",
       " 'sao filipe',\n",
       " 'yanam',\n",
       " 'luena',\n",
       " 'nizhnyaya tavda',\n",
       " 'krasnoselkup',\n",
       " 'george',\n",
       " 'belmonte',\n",
       " 'saint-pascal',\n",
       " 'bur gabo',\n",
       " 'margate',\n",
       " 'paracuru',\n",
       " 'jalu',\n",
       " 'baikunthpur',\n",
       " 'alcantara',\n",
       " 'buqayq',\n",
       " 'mabaruma',\n",
       " 'kelo',\n",
       " 'zambezi',\n",
       " 'honningsvag',\n",
       " 'kurmanayevka',\n",
       " 'inongo',\n",
       " 'havelock',\n",
       " 'tondon',\n",
       " 'mizque',\n",
       " 'strezhevoy',\n",
       " 'sur',\n",
       " 'ghanzi',\n",
       " 'boda',\n",
       " 'bereznik',\n",
       " 'zachagansk',\n",
       " 'sao gabriel da cachoeira',\n",
       " 'praia',\n",
       " 'himora',\n",
       " 'albertville',\n",
       " 'capitao poco',\n",
       " 'araguari',\n",
       " 'apostolove',\n",
       " 'montes altos',\n",
       " 'surt',\n",
       " 'negele',\n",
       " 'ghanaur',\n",
       " 'berbera',\n",
       " 'kudahuvadhoo',\n",
       " 'montceau-les-mines',\n",
       " 'yar-sale',\n",
       " 'skjervoy',\n",
       " 'oriximina',\n",
       " 'sfantu gheorghe',\n",
       " 'rio gallegos',\n",
       " 'bolungarvik',\n",
       " 'urumqi',\n",
       " 'maceio',\n",
       " 'conway',\n",
       " 'kuytun',\n",
       " 'zatoka',\n",
       " 'touros',\n",
       " 'richards bay',\n",
       " 'sarankhola',\n",
       " 'araouane',\n",
       " 'kayiry',\n",
       " 'porto novo',\n",
       " 'rio grande',\n",
       " 'eucaliptus',\n",
       " 'itaituba',\n",
       " 'mogadishu',\n",
       " 'comodoro rivadavia',\n",
       " 'puerto leguizamo',\n",
       " 'batticaloa',\n",
       " 'garbou',\n",
       " 'umba',\n",
       " 'san juan',\n",
       " 'solsvik',\n",
       " 'sinnamary',\n",
       " 'ibarra',\n",
       " 'ostrovnoy',\n",
       " 'lahti',\n",
       " 'saeby',\n",
       " 'oistins',\n",
       " 'pangnirtung',\n",
       " 'bartica',\n",
       " 'cervo',\n",
       " 'hambantota',\n",
       " 'aflu',\n",
       " 'ginir',\n",
       " 'igarka',\n",
       " 'buenos aires',\n",
       " 'santiago del estero',\n",
       " 'santa marta',\n",
       " 'formoso do araguaia',\n",
       " 'san miguel',\n",
       " 'noyabrsk',\n",
       " 'sidi ali',\n",
       " 'puerto narino',\n",
       " 'darya khan',\n",
       " 'san andres',\n",
       " 'inderborskiy',\n",
       " 'bubaque',\n",
       " 'agadez',\n",
       " 'sidi qasim',\n",
       " 'onda',\n",
       " 'kozlovka',\n",
       " 'jasa tomic',\n",
       " 'oranjestad',\n",
       " 'leh',\n",
       " 'piranhas',\n",
       " 'boddam',\n",
       " 'monroe',\n",
       " 'pittsfield',\n",
       " 'mezen',\n",
       " 'yangambi',\n",
       " 'mazyr',\n",
       " 'annau',\n",
       " 'beroroha',\n",
       " 'cozumel',\n",
       " 'manaus',\n",
       " 'dubrovka',\n",
       " 'praia da vitoria',\n",
       " 'camocim',\n",
       " 'rendsburg',\n",
       " 'muros',\n",
       " 'sayyan',\n",
       " 'marv dasht',\n",
       " 'dudinka',\n",
       " 'iisalmi',\n",
       " 'manama',\n",
       " 'pirapemas',\n",
       " 'juodupe',\n",
       " 'garowe',\n",
       " 'kegayli',\n",
       " 'bargal',\n",
       " 'bosaso',\n",
       " 'san cristobal',\n",
       " 'thyboron',\n",
       " 'saalfelden',\n",
       " 'biskamzha',\n",
       " 'tiznit',\n",
       " 'marmaris',\n",
       " 'luderitz',\n",
       " 'jamundi',\n",
       " 'sistranda',\n",
       " 'port-cartier',\n",
       " 'imbituba',\n",
       " 'urucui',\n",
       " 'hastings',\n",
       " 'bentiu',\n",
       " 'gat',\n",
       " 'marsaxlokk',\n",
       " 'krishnarajasagara',\n",
       " 'shache',\n",
       " 'serra talhada',\n",
       " 'butzow',\n",
       " 'hunza',\n",
       " 'santa fe do sul',\n",
       " 'verkhoshizhemye',\n",
       " 'hegra',\n",
       " 'saint-pierre',\n",
       " 'farsund',\n",
       " 'oberkirch',\n",
       " 'bokoro',\n",
       " 'sheltozero',\n",
       " 'kasane',\n",
       " 'karlskoga',\n",
       " 'chachapoyas',\n",
       " 'sokolo',\n",
       " 'chiredzi',\n",
       " 'awjilah',\n",
       " 'itaporanga',\n",
       " 'placido de castro',\n",
       " 'santa fe',\n",
       " 'sumbe',\n",
       " 'garissa',\n",
       " 'gangapur',\n",
       " 'neuquen',\n",
       " 'grand baie',\n",
       " 'berlevag',\n",
       " 'vreed en hoop',\n",
       " 'phalaborwa',\n",
       " 'dentsville',\n",
       " 'khairagarh',\n",
       " 'embu-guacu',\n",
       " 'kirovskiy',\n",
       " 'pocatky',\n",
       " 'rorvik',\n",
       " 'corning',\n",
       " 'dzhusaly',\n",
       " 'saquarema',\n",
       " 'road town',\n",
       " 'kernersville',\n",
       " 'abrau-dyurso',\n",
       " 'ilulissat',\n",
       " 'scottsburgh',\n",
       " 'nisia floresta',\n",
       " 'yabassi',\n",
       " 'sasovo',\n",
       " 'ilhabela',\n",
       " 'mundo novo',\n",
       " 'ermelo',\n",
       " 'abnub',\n",
       " 'santiago de cao',\n",
       " 'geraldton',\n",
       " 'navirai',\n",
       " 'otjiwarongo',\n",
       " 'pimenta bueno',\n",
       " 'bilma',\n",
       " 'mumford',\n",
       " 'le port',\n",
       " 'santa maria',\n",
       " 'copiapo',\n",
       " 'rio verde de mato grosso',\n",
       " 'mwinilunga',\n",
       " 'jiroft',\n",
       " 'chipinge',\n",
       " 'orikum',\n",
       " 'pryazha',\n",
       " 'patacamaya',\n",
       " 'beoumi',\n",
       " 'svodin',\n",
       " 'mahesana',\n",
       " 'urengoy',\n",
       " 'parrita',\n",
       " 'cabedelo',\n",
       " 'savannah bight',\n",
       " 'tikrit',\n",
       " 'havre-saint-pierre',\n",
       " 'oranjemund',\n",
       " 'lixourion',\n",
       " 'kambove',\n",
       " 'lodja',\n",
       " 'vestmannaeyjar',\n",
       " 'senador guiomard',\n",
       " 'doctor pedro p. pena',\n",
       " 'caluquembe',\n",
       " 'hobyo',\n",
       " 'atbasar',\n",
       " 'opuwo',\n",
       " 'pangody',\n",
       " 'arivonimamo',\n",
       " 'mocuba',\n",
       " 'atlantic city',\n",
       " 'mulanje',\n",
       " 'vestmanna',\n",
       " 'saint-augustin',\n",
       " 'nguruka',\n",
       " 'olafsvik',\n",
       " 'amot',\n",
       " 'peniche',\n",
       " 'aracinovo',\n",
       " 'lichinga',\n",
       " 'marrakesh',\n",
       " 'cabras',\n",
       " 'guapore',\n",
       " 'chilca',\n",
       " 'surgut',\n",
       " 'beloha',\n",
       " 'manga',\n",
       " 'gualaquiza',\n",
       " 'motupe',\n",
       " 'bara',\n",
       " 'odlabari']"
      ]
     },
     "execution_count": 19,
     "metadata": {},
     "output_type": "execute_result"
    }
   ],
   "source": [
    "latitudes = np.random.uniform(-90, 90, size=1500)\n",
    "longitudes = np.random.uniform(-90, 90, size=1500)\n",
    "lat_lngs = zip(latitudes, longitudes)\n",
    "coordinates = list(lat_lngs)\n",
    "cities = []\n",
    "for coordinate in coordinates:\n",
    "    city = cpy.nearest_city(coordinate[0], coordinate[1]).city_name\n",
    "    if city not in cities:\n",
    "        cities.append(city)\n",
    "cities"
   ]
  },
  {
   "cell_type": "code",
   "execution_count": 20,
   "id": "a81b9162",
   "metadata": {},
   "outputs": [
    {
     "name": "stdout",
     "output_type": "stream",
     "text": [
      "Beginning Data Retrieval\n",
      "------------------------\n"
     ]
    }
   ],
   "source": [
    "city_data = []\n",
    "print('Beginning Data Retrieval')\n",
    "print('------------------------')\n",
    "\n",
    "record_count = 1\n",
    "set_count = 1\n",
    "# for i in range(len(cities)):\n",
    "\n",
    "#     # Group cities in sets of 50 for logging purposes.\n",
    "#     if (i % 50 == 0 and i >= 50):\n",
    "#         set_count += 1\n",
    "#         record_count = 1\n",
    "# #         time.sleep(60)\n",
    "\n",
    "#     # Create endpoint URL with each city.\n",
    "#     city_url = url + \"&q=\" + cities[i]\n",
    "# city_url\n",
    "# for i, city in enumerate(cities):\n",
    "\n",
    "#     # Group cities in sets of 50 for logging purposes.\n",
    "#     if (i % 50 == 0 and i >= 50):\n",
    "#         set_count += 1\n",
    "#         record_count = 1\n",
    "# #         time.sleep(60)\n",
    "\n",
    "#     # Create endpoint URL with each city.\n",
    "#     city_url = url + \"&q=\" + city.replace(\" \",\"+\")\n",
    "\n",
    "#     # Log the URL, record, and set numbers and the city.\n",
    "#     print(f\"Processing Record {record_count} of Set {set_count} | {city}\")\n",
    "#     # Add 1 to the record count.\n",
    "#     record_count += 1"
   ]
  },
  {
   "cell_type": "code",
   "execution_count": 21,
   "id": "71a56a50",
   "metadata": {},
   "outputs": [
    {
     "data": {
      "text/plain": [
       "'http://api.openweathermap.org/data/2.5/weather?units=Imperial&APPID=f6b3b3f70dceaf748f16d2dac2b17ae4&q=Boston'"
      ]
     },
     "execution_count": 21,
     "metadata": {},
     "output_type": "execute_result"
    }
   ],
   "source": [
    "city_url"
   ]
  },
  {
   "cell_type": "code",
   "execution_count": null,
   "id": "0c72a844",
   "metadata": {},
   "outputs": [],
   "source": [
    "for i, city in enumerate(cities):\n",
    "\n",
    "    # Group cities in sets of 50 for logging purposes.\n",
    "    if (i % 50 == 0 and i >= 50):\n",
    "        set_count += 1\n",
    "        record_count = 1\n",
    "#         time.sleep(60)\n",
    "\n",
    "    # Create endpoint URL with each city.\n",
    "    city_url = url + \"&q=\" + city.replace(\" \",\"+\")\n",
    "\n",
    "    # Log the URL, record, and set numbers and the city.\n",
    "    print(f\"Processing Record {record_count} of Set {set_count} | {city}\")\n",
    "    # Add 1 to the record count.\n",
    "    record_count += 1\n",
    "    try:\n",
    "        # Parse the JSON and retrieve data.\n",
    "        city_weather = requests.get(city_url).json()\n",
    "        # Parse out the needed data.\n",
    "        city_lat = city_weather[\"coord\"][\"lat\"]\n",
    "        city_lng = city_weather[\"coord\"][\"lon\"]\n",
    "        city_max_temp = city_weather[\"main\"][\"temp_max\"]\n",
    "        city_humidity = city_weather[\"main\"][\"humidity\"]\n",
    "        city_clouds = city_weather[\"clouds\"][\"all\"]\n",
    "        city_wind = city_weather[\"wind\"][\"speed\"]\n",
    "        city_country = city_weather[\"sys\"][\"country\"]\n",
    "        city_date = datetime.utcfromtimestamp(city_weather['dt']).strftime('%Y-%m-%d %H:%M:%S')\n",
    "        city_data.append({\"City\": city.title(),\n",
    "                              \"Lat\": city_lat,\n",
    "                              \"Lng\": city_lng,\n",
    "                              \"Max Temp\": city_max_temp,\n",
    "                              \"Humidity\": city_humidity,\n",
    "                              \"Cloudiness\": city_clouds,\n",
    "                              \"Wind Speed\": city_wind,\n",
    "                              \"Country\": city_country,\n",
    "                              \"Date\": city_date})\n",
    "    except:\n",
    "        print('City not found. Skipping...')\n",
    "        pass\n",
    "print('complete')"
   ]
  },
  {
   "cell_type": "code",
   "execution_count": 22,
   "id": "dbd4f1cc",
   "metadata": {},
   "outputs": [
    {
     "data": {
      "text/plain": [
       "0"
      ]
     },
     "execution_count": 22,
     "metadata": {},
     "output_type": "execute_result"
    },
    {
     "data": {
      "text/plain": [
       "[]"
      ]
     },
     "execution_count": 22,
     "metadata": {},
     "output_type": "execute_result"
    }
   ],
   "source": [
    "len(city_data)\n",
    "city_data"
   ]
  },
  {
   "cell_type": "code",
   "execution_count": 23,
   "id": "271b738f",
   "metadata": {
    "scrolled": true
   },
   "outputs": [
    {
     "ename": "KeyError",
     "evalue": "\"None of [Index(['City', 'Country', 'Date', 'Lat', 'Lng', 'Max Temp', 'Humidity',\\n       'Cloudiness', 'Wind Speed'],\\n      dtype='object')] are in the [columns]\"",
     "output_type": "error",
     "traceback": [
      "\u001b[1;31m---------------------------------------------------------------------------\u001b[0m",
      "\u001b[1;31mKeyError\u001b[0m                                  Traceback (most recent call last)",
      "\u001b[1;32m~\\AppData\\Local\\Temp/ipykernel_10928/937926905.py\u001b[0m in \u001b[0;36m<module>\u001b[1;34m\u001b[0m\n\u001b[0;32m      3\u001b[0m \u001b[0mnew_column_order\u001b[0m \u001b[1;33m=\u001b[0m \u001b[1;33m[\u001b[0m\u001b[1;34m'City'\u001b[0m\u001b[1;33m,\u001b[0m \u001b[1;34m'Country'\u001b[0m\u001b[1;33m,\u001b[0m \u001b[1;34m'Date'\u001b[0m\u001b[1;33m,\u001b[0m \u001b[1;34m'Lat'\u001b[0m\u001b[1;33m,\u001b[0m \u001b[1;34m'Lng'\u001b[0m\u001b[1;33m,\u001b[0m \u001b[1;34m'Max Temp'\u001b[0m\u001b[1;33m,\u001b[0m \u001b[1;34m'Humidity'\u001b[0m\u001b[1;33m,\u001b[0m \u001b[1;34m'Cloudiness'\u001b[0m\u001b[1;33m,\u001b[0m \u001b[1;34m'Wind Speed'\u001b[0m\u001b[1;33m]\u001b[0m\u001b[1;33m\u001b[0m\u001b[1;33m\u001b[0m\u001b[0m\n\u001b[0;32m      4\u001b[0m \u001b[1;32mfor\u001b[0m \u001b[0mcolumns\u001b[0m \u001b[1;32min\u001b[0m \u001b[0mnew_column_order\u001b[0m\u001b[1;33m:\u001b[0m\u001b[1;33m\u001b[0m\u001b[1;33m\u001b[0m\u001b[0m\n\u001b[1;32m----> 5\u001b[1;33m     \u001b[0mcity_data_df\u001b[0m \u001b[1;33m=\u001b[0m \u001b[0mcity_data_df\u001b[0m\u001b[1;33m[\u001b[0m\u001b[0mnew_column_order\u001b[0m\u001b[1;33m]\u001b[0m\u001b[1;33m\u001b[0m\u001b[1;33m\u001b[0m\u001b[0m\n\u001b[0m\u001b[0;32m      6\u001b[0m \u001b[1;31m# city_data_df.to_csv('World Weather Analysis/Weather Data/Cities_Weather.csv', index_label='City ID')\u001b[0m\u001b[1;33m\u001b[0m\u001b[1;33m\u001b[0m\u001b[1;33m\u001b[0m\u001b[0m\n",
      "\u001b[1;32m~\\anaconda3\\envs\\PythonData\\lib\\site-packages\\pandas\\core\\frame.py\u001b[0m in \u001b[0;36m__getitem__\u001b[1;34m(self, key)\u001b[0m\n\u001b[0;32m   3462\u001b[0m             \u001b[1;32mif\u001b[0m \u001b[0mis_iterator\u001b[0m\u001b[1;33m(\u001b[0m\u001b[0mkey\u001b[0m\u001b[1;33m)\u001b[0m\u001b[1;33m:\u001b[0m\u001b[1;33m\u001b[0m\u001b[1;33m\u001b[0m\u001b[0m\n\u001b[0;32m   3463\u001b[0m                 \u001b[0mkey\u001b[0m \u001b[1;33m=\u001b[0m \u001b[0mlist\u001b[0m\u001b[1;33m(\u001b[0m\u001b[0mkey\u001b[0m\u001b[1;33m)\u001b[0m\u001b[1;33m\u001b[0m\u001b[1;33m\u001b[0m\u001b[0m\n\u001b[1;32m-> 3464\u001b[1;33m             \u001b[0mindexer\u001b[0m \u001b[1;33m=\u001b[0m \u001b[0mself\u001b[0m\u001b[1;33m.\u001b[0m\u001b[0mloc\u001b[0m\u001b[1;33m.\u001b[0m\u001b[0m_get_listlike_indexer\u001b[0m\u001b[1;33m(\u001b[0m\u001b[0mkey\u001b[0m\u001b[1;33m,\u001b[0m \u001b[0maxis\u001b[0m\u001b[1;33m=\u001b[0m\u001b[1;36m1\u001b[0m\u001b[1;33m)\u001b[0m\u001b[1;33m[\u001b[0m\u001b[1;36m1\u001b[0m\u001b[1;33m]\u001b[0m\u001b[1;33m\u001b[0m\u001b[1;33m\u001b[0m\u001b[0m\n\u001b[0m\u001b[0;32m   3465\u001b[0m \u001b[1;33m\u001b[0m\u001b[0m\n\u001b[0;32m   3466\u001b[0m         \u001b[1;31m# take() does not accept boolean indexers\u001b[0m\u001b[1;33m\u001b[0m\u001b[1;33m\u001b[0m\u001b[1;33m\u001b[0m\u001b[0m\n",
      "\u001b[1;32m~\\anaconda3\\envs\\PythonData\\lib\\site-packages\\pandas\\core\\indexing.py\u001b[0m in \u001b[0;36m_get_listlike_indexer\u001b[1;34m(self, key, axis)\u001b[0m\n\u001b[0;32m   1312\u001b[0m             \u001b[0mkeyarr\u001b[0m\u001b[1;33m,\u001b[0m \u001b[0mindexer\u001b[0m\u001b[1;33m,\u001b[0m \u001b[0mnew_indexer\u001b[0m \u001b[1;33m=\u001b[0m \u001b[0max\u001b[0m\u001b[1;33m.\u001b[0m\u001b[0m_reindex_non_unique\u001b[0m\u001b[1;33m(\u001b[0m\u001b[0mkeyarr\u001b[0m\u001b[1;33m)\u001b[0m\u001b[1;33m\u001b[0m\u001b[1;33m\u001b[0m\u001b[0m\n\u001b[0;32m   1313\u001b[0m \u001b[1;33m\u001b[0m\u001b[0m\n\u001b[1;32m-> 1314\u001b[1;33m         \u001b[0mself\u001b[0m\u001b[1;33m.\u001b[0m\u001b[0m_validate_read_indexer\u001b[0m\u001b[1;33m(\u001b[0m\u001b[0mkeyarr\u001b[0m\u001b[1;33m,\u001b[0m \u001b[0mindexer\u001b[0m\u001b[1;33m,\u001b[0m \u001b[0maxis\u001b[0m\u001b[1;33m)\u001b[0m\u001b[1;33m\u001b[0m\u001b[1;33m\u001b[0m\u001b[0m\n\u001b[0m\u001b[0;32m   1315\u001b[0m \u001b[1;33m\u001b[0m\u001b[0m\n\u001b[0;32m   1316\u001b[0m         if needs_i8_conversion(ax.dtype) or isinstance(\n",
      "\u001b[1;32m~\\anaconda3\\envs\\PythonData\\lib\\site-packages\\pandas\\core\\indexing.py\u001b[0m in \u001b[0;36m_validate_read_indexer\u001b[1;34m(self, key, indexer, axis)\u001b[0m\n\u001b[0;32m   1372\u001b[0m                 \u001b[1;32mif\u001b[0m \u001b[0muse_interval_msg\u001b[0m\u001b[1;33m:\u001b[0m\u001b[1;33m\u001b[0m\u001b[1;33m\u001b[0m\u001b[0m\n\u001b[0;32m   1373\u001b[0m                     \u001b[0mkey\u001b[0m \u001b[1;33m=\u001b[0m \u001b[0mlist\u001b[0m\u001b[1;33m(\u001b[0m\u001b[0mkey\u001b[0m\u001b[1;33m)\u001b[0m\u001b[1;33m\u001b[0m\u001b[1;33m\u001b[0m\u001b[0m\n\u001b[1;32m-> 1374\u001b[1;33m                 \u001b[1;32mraise\u001b[0m \u001b[0mKeyError\u001b[0m\u001b[1;33m(\u001b[0m\u001b[1;34mf\"None of [{key}] are in the [{axis_name}]\"\u001b[0m\u001b[1;33m)\u001b[0m\u001b[1;33m\u001b[0m\u001b[1;33m\u001b[0m\u001b[0m\n\u001b[0m\u001b[0;32m   1375\u001b[0m \u001b[1;33m\u001b[0m\u001b[0m\n\u001b[0;32m   1376\u001b[0m             \u001b[0mnot_found\u001b[0m \u001b[1;33m=\u001b[0m \u001b[0mlist\u001b[0m\u001b[1;33m(\u001b[0m\u001b[0mensure_index\u001b[0m\u001b[1;33m(\u001b[0m\u001b[0mkey\u001b[0m\u001b[1;33m)\u001b[0m\u001b[1;33m[\u001b[0m\u001b[0mmissing_mask\u001b[0m\u001b[1;33m.\u001b[0m\u001b[0mnonzero\u001b[0m\u001b[1;33m(\u001b[0m\u001b[1;33m)\u001b[0m\u001b[1;33m[\u001b[0m\u001b[1;36m0\u001b[0m\u001b[1;33m]\u001b[0m\u001b[1;33m]\u001b[0m\u001b[1;33m.\u001b[0m\u001b[0munique\u001b[0m\u001b[1;33m(\u001b[0m\u001b[1;33m)\u001b[0m\u001b[1;33m)\u001b[0m\u001b[1;33m\u001b[0m\u001b[1;33m\u001b[0m\u001b[0m\n",
      "\u001b[1;31mKeyError\u001b[0m: \"None of [Index(['City', 'Country', 'Date', 'Lat', 'Lng', 'Max Temp', 'Humidity',\\n       'Cloudiness', 'Wind Speed'],\\n      dtype='object')] are in the [columns]\""
     ]
    }
   ],
   "source": [
    "import pandas as pd\n",
    "city_data_df = pd.DataFrame(city_data)\n",
    "new_column_order = ['City', 'Country', 'Date', 'Lat', 'Lng', 'Max Temp', 'Humidity', 'Cloudiness', 'Wind Speed']\n",
    "for columns in new_column_order:\n",
    "    city_data_df = city_data_df[new_column_order]\n",
    "# city_data_df.to_csv('World Weather Analysis/Weather Data/Cities_Weather.csv', index_label='City ID')"
   ]
  },
  {
   "cell_type": "code",
   "execution_count": 24,
   "id": "1fc37be4",
   "metadata": {},
   "outputs": [
    {
     "data": {
      "text/plain": [
       "'01/27/22'"
      ]
     },
     "execution_count": 24,
     "metadata": {},
     "output_type": "execute_result"
    }
   ],
   "source": [
    "time.strftime('%x')"
   ]
  },
  {
   "cell_type": "code",
   "execution_count": 25,
   "id": "3167aa92",
   "metadata": {},
   "outputs": [
    {
     "ename": "KeyError",
     "evalue": "'Lat'",
     "output_type": "error",
     "traceback": [
      "\u001b[1;31m---------------------------------------------------------------------------\u001b[0m",
      "\u001b[1;31mKeyError\u001b[0m                                  Traceback (most recent call last)",
      "\u001b[1;32m~\\anaconda3\\envs\\PythonData\\lib\\site-packages\\pandas\\core\\indexes\\base.py\u001b[0m in \u001b[0;36mget_loc\u001b[1;34m(self, key, method, tolerance)\u001b[0m\n\u001b[0;32m   3360\u001b[0m             \u001b[1;32mtry\u001b[0m\u001b[1;33m:\u001b[0m\u001b[1;33m\u001b[0m\u001b[1;33m\u001b[0m\u001b[0m\n\u001b[1;32m-> 3361\u001b[1;33m                 \u001b[1;32mreturn\u001b[0m \u001b[0mself\u001b[0m\u001b[1;33m.\u001b[0m\u001b[0m_engine\u001b[0m\u001b[1;33m.\u001b[0m\u001b[0mget_loc\u001b[0m\u001b[1;33m(\u001b[0m\u001b[0mcasted_key\u001b[0m\u001b[1;33m)\u001b[0m\u001b[1;33m\u001b[0m\u001b[1;33m\u001b[0m\u001b[0m\n\u001b[0m\u001b[0;32m   3362\u001b[0m             \u001b[1;32mexcept\u001b[0m \u001b[0mKeyError\u001b[0m \u001b[1;32mas\u001b[0m \u001b[0merr\u001b[0m\u001b[1;33m:\u001b[0m\u001b[1;33m\u001b[0m\u001b[1;33m\u001b[0m\u001b[0m\n",
      "\u001b[1;32m~\\anaconda3\\envs\\PythonData\\lib\\site-packages\\pandas\\_libs\\index.pyx\u001b[0m in \u001b[0;36mpandas._libs.index.IndexEngine.get_loc\u001b[1;34m()\u001b[0m\n",
      "\u001b[1;32m~\\anaconda3\\envs\\PythonData\\lib\\site-packages\\pandas\\_libs\\index.pyx\u001b[0m in \u001b[0;36mpandas._libs.index.IndexEngine.get_loc\u001b[1;34m()\u001b[0m\n",
      "\u001b[1;32mpandas\\_libs\\hashtable_class_helper.pxi\u001b[0m in \u001b[0;36mpandas._libs.hashtable.PyObjectHashTable.get_item\u001b[1;34m()\u001b[0m\n",
      "\u001b[1;32mpandas\\_libs\\hashtable_class_helper.pxi\u001b[0m in \u001b[0;36mpandas._libs.hashtable.PyObjectHashTable.get_item\u001b[1;34m()\u001b[0m\n",
      "\u001b[1;31mKeyError\u001b[0m: 'Lat'",
      "\nThe above exception was the direct cause of the following exception:\n",
      "\u001b[1;31mKeyError\u001b[0m                                  Traceback (most recent call last)",
      "\u001b[1;32m~\\AppData\\Local\\Temp/ipykernel_10928/3808903424.py\u001b[0m in \u001b[0;36m<module>\u001b[1;34m\u001b[0m\n\u001b[0;32m      1\u001b[0m \u001b[1;32mimport\u001b[0m \u001b[0mmatplotlib\u001b[0m\u001b[1;33m.\u001b[0m\u001b[0mpyplot\u001b[0m \u001b[1;32mas\u001b[0m \u001b[0mplt\u001b[0m\u001b[1;33m\u001b[0m\u001b[1;33m\u001b[0m\u001b[0m\n\u001b[1;32m----> 2\u001b[1;33m \u001b[0mlats\u001b[0m \u001b[1;33m=\u001b[0m \u001b[0mcity_data_df\u001b[0m\u001b[1;33m[\u001b[0m\u001b[1;34m\"Lat\"\u001b[0m\u001b[1;33m]\u001b[0m\u001b[1;33m\u001b[0m\u001b[1;33m\u001b[0m\u001b[0m\n\u001b[0m\u001b[0;32m      3\u001b[0m \u001b[0mmax_temps\u001b[0m \u001b[1;33m=\u001b[0m \u001b[0mcity_data_df\u001b[0m\u001b[1;33m[\u001b[0m\u001b[1;34m\"Max Temp\"\u001b[0m\u001b[1;33m]\u001b[0m\u001b[1;33m\u001b[0m\u001b[1;33m\u001b[0m\u001b[0m\n\u001b[0;32m      4\u001b[0m \u001b[0mhumidity\u001b[0m \u001b[1;33m=\u001b[0m \u001b[0mcity_data_df\u001b[0m\u001b[1;33m[\u001b[0m\u001b[1;34m\"Humidity\"\u001b[0m\u001b[1;33m]\u001b[0m\u001b[1;33m\u001b[0m\u001b[1;33m\u001b[0m\u001b[0m\n\u001b[0;32m      5\u001b[0m \u001b[0mcloudiness\u001b[0m \u001b[1;33m=\u001b[0m \u001b[0mcity_data_df\u001b[0m\u001b[1;33m[\u001b[0m\u001b[1;34m\"Cloudiness\"\u001b[0m\u001b[1;33m]\u001b[0m\u001b[1;33m\u001b[0m\u001b[1;33m\u001b[0m\u001b[0m\n",
      "\u001b[1;32m~\\anaconda3\\envs\\PythonData\\lib\\site-packages\\pandas\\core\\frame.py\u001b[0m in \u001b[0;36m__getitem__\u001b[1;34m(self, key)\u001b[0m\n\u001b[0;32m   3456\u001b[0m             \u001b[1;32mif\u001b[0m \u001b[0mself\u001b[0m\u001b[1;33m.\u001b[0m\u001b[0mcolumns\u001b[0m\u001b[1;33m.\u001b[0m\u001b[0mnlevels\u001b[0m \u001b[1;33m>\u001b[0m \u001b[1;36m1\u001b[0m\u001b[1;33m:\u001b[0m\u001b[1;33m\u001b[0m\u001b[1;33m\u001b[0m\u001b[0m\n\u001b[0;32m   3457\u001b[0m                 \u001b[1;32mreturn\u001b[0m \u001b[0mself\u001b[0m\u001b[1;33m.\u001b[0m\u001b[0m_getitem_multilevel\u001b[0m\u001b[1;33m(\u001b[0m\u001b[0mkey\u001b[0m\u001b[1;33m)\u001b[0m\u001b[1;33m\u001b[0m\u001b[1;33m\u001b[0m\u001b[0m\n\u001b[1;32m-> 3458\u001b[1;33m             \u001b[0mindexer\u001b[0m \u001b[1;33m=\u001b[0m \u001b[0mself\u001b[0m\u001b[1;33m.\u001b[0m\u001b[0mcolumns\u001b[0m\u001b[1;33m.\u001b[0m\u001b[0mget_loc\u001b[0m\u001b[1;33m(\u001b[0m\u001b[0mkey\u001b[0m\u001b[1;33m)\u001b[0m\u001b[1;33m\u001b[0m\u001b[1;33m\u001b[0m\u001b[0m\n\u001b[0m\u001b[0;32m   3459\u001b[0m             \u001b[1;32mif\u001b[0m \u001b[0mis_integer\u001b[0m\u001b[1;33m(\u001b[0m\u001b[0mindexer\u001b[0m\u001b[1;33m)\u001b[0m\u001b[1;33m:\u001b[0m\u001b[1;33m\u001b[0m\u001b[1;33m\u001b[0m\u001b[0m\n\u001b[0;32m   3460\u001b[0m                 \u001b[0mindexer\u001b[0m \u001b[1;33m=\u001b[0m \u001b[1;33m[\u001b[0m\u001b[0mindexer\u001b[0m\u001b[1;33m]\u001b[0m\u001b[1;33m\u001b[0m\u001b[1;33m\u001b[0m\u001b[0m\n",
      "\u001b[1;32m~\\anaconda3\\envs\\PythonData\\lib\\site-packages\\pandas\\core\\indexes\\base.py\u001b[0m in \u001b[0;36mget_loc\u001b[1;34m(self, key, method, tolerance)\u001b[0m\n\u001b[0;32m   3361\u001b[0m                 \u001b[1;32mreturn\u001b[0m \u001b[0mself\u001b[0m\u001b[1;33m.\u001b[0m\u001b[0m_engine\u001b[0m\u001b[1;33m.\u001b[0m\u001b[0mget_loc\u001b[0m\u001b[1;33m(\u001b[0m\u001b[0mcasted_key\u001b[0m\u001b[1;33m)\u001b[0m\u001b[1;33m\u001b[0m\u001b[1;33m\u001b[0m\u001b[0m\n\u001b[0;32m   3362\u001b[0m             \u001b[1;32mexcept\u001b[0m \u001b[0mKeyError\u001b[0m \u001b[1;32mas\u001b[0m \u001b[0merr\u001b[0m\u001b[1;33m:\u001b[0m\u001b[1;33m\u001b[0m\u001b[1;33m\u001b[0m\u001b[0m\n\u001b[1;32m-> 3363\u001b[1;33m                 \u001b[1;32mraise\u001b[0m \u001b[0mKeyError\u001b[0m\u001b[1;33m(\u001b[0m\u001b[0mkey\u001b[0m\u001b[1;33m)\u001b[0m \u001b[1;32mfrom\u001b[0m \u001b[0merr\u001b[0m\u001b[1;33m\u001b[0m\u001b[1;33m\u001b[0m\u001b[0m\n\u001b[0m\u001b[0;32m   3364\u001b[0m \u001b[1;33m\u001b[0m\u001b[0m\n\u001b[0;32m   3365\u001b[0m         \u001b[1;32mif\u001b[0m \u001b[0mis_scalar\u001b[0m\u001b[1;33m(\u001b[0m\u001b[0mkey\u001b[0m\u001b[1;33m)\u001b[0m \u001b[1;32mand\u001b[0m \u001b[0misna\u001b[0m\u001b[1;33m(\u001b[0m\u001b[0mkey\u001b[0m\u001b[1;33m)\u001b[0m \u001b[1;32mand\u001b[0m \u001b[1;32mnot\u001b[0m \u001b[0mself\u001b[0m\u001b[1;33m.\u001b[0m\u001b[0mhasnans\u001b[0m\u001b[1;33m:\u001b[0m\u001b[1;33m\u001b[0m\u001b[1;33m\u001b[0m\u001b[0m\n",
      "\u001b[1;31mKeyError\u001b[0m: 'Lat'"
     ]
    }
   ],
   "source": [
    "import matplotlib.pyplot as plt\n",
    "lats = city_data_df[\"Lat\"]\n",
    "max_temps = city_data_df[\"Max Temp\"]\n",
    "humidity = city_data_df[\"Humidity\"]\n",
    "cloudiness = city_data_df[\"Cloudiness\"]\n",
    "wind_speed = city_data_df[\"Wind Speed\"]\n",
    "plt.scatter(lats, max_temps, edgecolor='black', linewidth=1, marker='o', alpha=0.7, label='Cities')\n",
    "plt.title(f'City Latitude vs. Max Temperature ' + time.strftime('%x'))\n",
    "plt.ylabel('Max Temperature (F)')\n",
    "plt.grid(True)\n"
   ]
  },
  {
   "cell_type": "code",
   "execution_count": null,
   "id": "a682032f",
   "metadata": {},
   "outputs": [],
   "source": [
    "plt.scatter(lats, humidity, edgecolor='black', linewidth=1, marker='o', alpha=0.7, label='Cities')\n",
    "plt.title(f'City Latitude vs. Humidity ' + time.strftime('%x'))\n",
    "plt.ylabel('Max Temperature (F)')\n",
    "plt.grid(True)"
   ]
  },
  {
   "cell_type": "code",
   "execution_count": null,
   "id": "9f9b5ca3",
   "metadata": {},
   "outputs": [],
   "source": [
    "plt.scatter(lats, wind_speed, edgecolor='black', linewidth=1, marker='o', alpha=0.7, label='Cities')\n",
    "plt.title(f'City Latitude vs. Wind Speed ' + time.strftime('%x'))\n",
    "plt.ylabel('Wind Speed (mph)')\n",
    "plt.grid(True)"
   ]
  },
  {
   "cell_type": "code",
   "execution_count": 26,
   "id": "371099af",
   "metadata": {},
   "outputs": [
    {
     "data": {
      "text/plain": [
       "[-1.1, -38.1, -88.2, 10.1, -13.2, -58.6, 78.3, 5.7, 29.7, 35.3]"
      ]
     },
     "execution_count": 26,
     "metadata": {},
     "output_type": "execute_result"
    },
    {
     "data": {
      "text/plain": [
       "[56.7, 88.3, 52.4, 51.9, 83.3, 71.2, 69.3, 49.5, 58.0, 84.3]"
      ]
     },
     "execution_count": 26,
     "metadata": {},
     "output_type": "execute_result"
    }
   ],
   "source": [
    "from scipy.stats import linregress\n",
    "lats = [round(np.random.uniform(-90,90),1) for i in range(10)]\n",
    "temps = [round(np.random.uniform(30,90),1) for i in range(10)]\n",
    "lats\n",
    "temps"
   ]
  },
  {
   "cell_type": "code",
   "execution_count": 27,
   "id": "fb88df7a",
   "metadata": {},
   "outputs": [
    {
     "data": {
      "text/plain": [
       "(0.01314519141980013,\n",
       " 66.54271221759339,\n",
       " 0.042954714955211755,\n",
       " 0.9062097418345091,\n",
       " 0.10809610605425642)"
      ]
     },
     "execution_count": 27,
     "metadata": {},
     "output_type": "execute_result"
    },
    {
     "data": {
      "text/plain": [
       "'y = 0.01x + 66.54'"
      ]
     },
     "execution_count": 27,
     "metadata": {},
     "output_type": "execute_result"
    },
    {
     "name": "stdout",
     "output_type": "stream",
     "text": [
      "The p-value is: 0.906\n"
     ]
    }
   ],
   "source": [
    "(slope, intercept, r_value, p_value, std_err) = linregress(lats, temps)\n",
    "(slope, intercept, r_value, p_value, std_err)\n",
    "equation = f'y = {round(slope,2)}'f'x + {round(intercept,2)}'\n",
    "equation\n",
    "print(f'The p-value is: {p_value:.3f}')"
   ]
  },
  {
   "cell_type": "code",
   "execution_count": 28,
   "id": "5735c320",
   "metadata": {},
   "outputs": [
    {
     "data": {
      "text/plain": [
       "[66.52825250703161,\n",
       " 66.041880424499,\n",
       " 65.38330633436702,\n",
       " 66.67547865093337,\n",
       " 66.36919569085202,\n",
       " 65.77240400039311,\n",
       " 67.57198070576374,\n",
       " 66.61763980868625,\n",
       " 66.93312440276145,\n",
       " 67.00673747471234]"
      ]
     },
     "execution_count": 28,
     "metadata": {},
     "output_type": "execute_result"
    },
    {
     "data": {
      "text/plain": [
       "<matplotlib.collections.PathCollection at 0x1dfc6e97208>"
      ]
     },
     "execution_count": 28,
     "metadata": {},
     "output_type": "execute_result"
    },
    {
     "data": {
      "text/plain": [
       "[<matplotlib.lines.Line2D at 0x1dfc6e892c8>]"
      ]
     },
     "execution_count": 28,
     "metadata": {},
     "output_type": "execute_result"
    },
    {
     "data": {
      "text/plain": [
       "Text(10, 40, 'y = 0.01x + 66.54')"
      ]
     },
     "execution_count": 28,
     "metadata": {},
     "output_type": "execute_result"
    },
    {
     "data": {
      "image/png": "[encoded data removed]",
      "text/plain": [
       "<Figure size 720x360 with 1 Axes>"
      ]
     },
     "metadata": {
      "needs_background": "light"
     },
     "output_type": "display_data"
    }
   ],
   "source": [
    "regress_values = [(lat*slope+intercept) for lat in lats]\n",
    "regress_values\n",
    "fig, ax = plt.subplots(figsize=(10,5))\n",
    "ax.scatter(lats, temps)\n",
    "ax.plot(lats, regress_values)\n",
    "ax.annotate(equation, (10,40))\n"
   ]
  },
  {
   "cell_type": "code",
   "execution_count": 29,
   "id": "29e65a60",
   "metadata": {},
   "outputs": [
    {
     "data": {
      "image/png": "[encoded data removed]",
      "text/plain": [
       "<Figure size 720x360 with 1 Axes>"
      ]
     },
     "metadata": {
      "needs_background": "light"
     },
     "output_type": "display_data"
    }
   ],
   "source": [
    "def plot_linregress(x_values, y_values, title, y_label, text_coordinates):\n",
    "    (slope, intercept, r_value, p_value, std_err) = linregress(x_values, y_values)\n",
    "    regress_values = [(x * slope + intercept) for x in x_values]\n",
    "    equation = f'y= {round(slope,2)}'f'x + {round(intercept,2)}'\n",
    "    fig, ax = plt.subplots(figsize=(10,5))\n",
    "    ax.scatter(x_values, y_values)\n",
    "    ax.plot(x_values, regress_values)\n",
    "    ax.annotate(equation, text_coordinates, fontsize=15, color='black')\n",
    "    ax.set_title(title)\n",
    "    ax.set_xlabel('Latitude')\n",
    "    ax.set_ylabel(y_label)\n",
    "    plt.show()\n",
    "plot_linregress(lats, temps, 'Blah', 'Temperature', (10,40))"
   ]
  },
  {
   "cell_type": "code",
   "execution_count": 59,
   "id": "c6c97b11",
   "metadata": {},
   "outputs": [
    {
     "data": {
      "text/html": [
       "<div>\n",
       "<style scoped>\n",
       "    .dataframe tbody tr th:only-of-type {\n",
       "        vertical-align: middle;\n",
       "    }\n",
       "\n",
       "    .dataframe tbody tr th {\n",
       "        vertical-align: top;\n",
       "    }\n",
       "\n",
       "    .dataframe thead th {\n",
       "        text-align: right;\n",
       "    }\n",
       "</style>\n",
       "<table border=\"1\" class=\"dataframe\">\n",
       "  <thead>\n",
       "    <tr style=\"text-align: right;\">\n",
       "      <th></th>\n",
       "      <th>City ID</th>\n",
       "      <th>City</th>\n",
       "      <th>Country</th>\n",
       "      <th>Date</th>\n",
       "      <th>Lat</th>\n",
       "      <th>Lng</th>\n",
       "      <th>Max Temp</th>\n",
       "      <th>Humidity</th>\n",
       "      <th>Cloudiness</th>\n",
       "      <th>Wind Speed</th>\n",
       "    </tr>\n",
       "  </thead>\n",
       "  <tbody>\n",
       "    <tr>\n",
       "      <th>2</th>\n",
       "      <td>2</td>\n",
       "      <td>Dembi Dolo</td>\n",
       "      <td>ET</td>\n",
       "      <td>2022-01-25 21:53:46</td>\n",
       "      <td>8.5333</td>\n",
       "      <td>34.8000</td>\n",
       "      <td>68.38</td>\n",
       "      <td>32</td>\n",
       "      <td>62</td>\n",
       "      <td>2.82</td>\n",
       "    </tr>\n",
       "    <tr>\n",
       "      <th>3</th>\n",
       "      <td>3</td>\n",
       "      <td>Czarnkow</td>\n",
       "      <td>PL</td>\n",
       "      <td>2022-01-25 21:53:46</td>\n",
       "      <td>52.9021</td>\n",
       "      <td>16.5641</td>\n",
       "      <td>40.55</td>\n",
       "      <td>94</td>\n",
       "      <td>77</td>\n",
       "      <td>8.79</td>\n",
       "    </tr>\n",
       "    <tr>\n",
       "      <th>4</th>\n",
       "      <td>4</td>\n",
       "      <td>Saint George</td>\n",
       "      <td>US</td>\n",
       "      <td>2022-01-25 21:48:46</td>\n",
       "      <td>37.1041</td>\n",
       "      <td>-113.5841</td>\n",
       "      <td>54.19</td>\n",
       "      <td>29</td>\n",
       "      <td>0</td>\n",
       "      <td>3.00</td>\n",
       "    </tr>\n",
       "    <tr>\n",
       "      <th>5</th>\n",
       "      <td>5</td>\n",
       "      <td>Verkhoshizhemye</td>\n",
       "      <td>RU</td>\n",
       "      <td>2022-01-25 21:53:46</td>\n",
       "      <td>58.0110</td>\n",
       "      <td>49.1038</td>\n",
       "      <td>5.09</td>\n",
       "      <td>93</td>\n",
       "      <td>92</td>\n",
       "      <td>7.00</td>\n",
       "    </tr>\n",
       "    <tr>\n",
       "      <th>7</th>\n",
       "      <td>7</td>\n",
       "      <td>Berlevag</td>\n",
       "      <td>NO</td>\n",
       "      <td>2022-01-25 21:50:15</td>\n",
       "      <td>70.8578</td>\n",
       "      <td>29.0864</td>\n",
       "      <td>28.40</td>\n",
       "      <td>93</td>\n",
       "      <td>75</td>\n",
       "      <td>31.07</td>\n",
       "    </tr>\n",
       "  </tbody>\n",
       "</table>\n",
       "</div>"
      ],
      "text/plain": [
       "   City ID             City Country                 Date      Lat       Lng  \\\n",
       "2        2       Dembi Dolo      ET  2022-01-25 21:53:46   8.5333   34.8000   \n",
       "3        3         Czarnkow      PL  2022-01-25 21:53:46  52.9021   16.5641   \n",
       "4        4     Saint George      US  2022-01-25 21:48:46  37.1041 -113.5841   \n",
       "5        5  Verkhoshizhemye      RU  2022-01-25 21:53:46  58.0110   49.1038   \n",
       "7        7         Berlevag      NO  2022-01-25 21:50:15  70.8578   29.0864   \n",
       "\n",
       "   Max Temp  Humidity  Cloudiness  Wind Speed  \n",
       "2     68.38        32          62        2.82  \n",
       "3     40.55        94          77        8.79  \n",
       "4     54.19        29           0        3.00  \n",
       "5      5.09        93          92        7.00  \n",
       "7     28.40        93          75       31.07  "
      ]
     },
     "execution_count": 59,
     "metadata": {},
     "output_type": "execute_result"
    },
    {
     "data": {
      "text/html": [
       "<div>\n",
       "<style scoped>\n",
       "    .dataframe tbody tr th:only-of-type {\n",
       "        vertical-align: middle;\n",
       "    }\n",
       "\n",
       "    .dataframe tbody tr th {\n",
       "        vertical-align: top;\n",
       "    }\n",
       "\n",
       "    .dataframe thead th {\n",
       "        text-align: right;\n",
       "    }\n",
       "</style>\n",
       "<table border=\"1\" class=\"dataframe\">\n",
       "  <thead>\n",
       "    <tr style=\"text-align: right;\">\n",
       "      <th></th>\n",
       "      <th>City ID</th>\n",
       "      <th>City</th>\n",
       "      <th>Country</th>\n",
       "      <th>Date</th>\n",
       "      <th>Lat</th>\n",
       "      <th>Lng</th>\n",
       "      <th>Max Temp</th>\n",
       "      <th>Humidity</th>\n",
       "      <th>Cloudiness</th>\n",
       "      <th>Wind Speed</th>\n",
       "    </tr>\n",
       "  </thead>\n",
       "  <tbody>\n",
       "    <tr>\n",
       "      <th>0</th>\n",
       "      <td>0</td>\n",
       "      <td>Talara</td>\n",
       "      <td>PE</td>\n",
       "      <td>2022-01-25 21:53:45</td>\n",
       "      <td>-4.5772</td>\n",
       "      <td>-81.2719</td>\n",
       "      <td>74.16</td>\n",
       "      <td>73</td>\n",
       "      <td>100</td>\n",
       "      <td>11.21</td>\n",
       "    </tr>\n",
       "    <tr>\n",
       "      <th>1</th>\n",
       "      <td>1</td>\n",
       "      <td>Cape Town</td>\n",
       "      <td>ZA</td>\n",
       "      <td>2022-01-25 21:50:37</td>\n",
       "      <td>-33.9258</td>\n",
       "      <td>18.4232</td>\n",
       "      <td>68.41</td>\n",
       "      <td>76</td>\n",
       "      <td>0</td>\n",
       "      <td>7.00</td>\n",
       "    </tr>\n",
       "    <tr>\n",
       "      <th>6</th>\n",
       "      <td>6</td>\n",
       "      <td>Port Elizabeth</td>\n",
       "      <td>ZA</td>\n",
       "      <td>2022-01-25 21:50:46</td>\n",
       "      <td>-33.9180</td>\n",
       "      <td>25.5701</td>\n",
       "      <td>69.10</td>\n",
       "      <td>88</td>\n",
       "      <td>100</td>\n",
       "      <td>10.36</td>\n",
       "    </tr>\n",
       "    <tr>\n",
       "      <th>9</th>\n",
       "      <td>9</td>\n",
       "      <td>Lima</td>\n",
       "      <td>PE</td>\n",
       "      <td>2022-01-25 21:51:53</td>\n",
       "      <td>-12.0432</td>\n",
       "      <td>-77.0282</td>\n",
       "      <td>75.90</td>\n",
       "      <td>71</td>\n",
       "      <td>0</td>\n",
       "      <td>7.00</td>\n",
       "    </tr>\n",
       "    <tr>\n",
       "      <th>10</th>\n",
       "      <td>10</td>\n",
       "      <td>Mahebourg</td>\n",
       "      <td>MU</td>\n",
       "      <td>2022-01-25 21:50:22</td>\n",
       "      <td>-20.4081</td>\n",
       "      <td>57.7000</td>\n",
       "      <td>75.49</td>\n",
       "      <td>73</td>\n",
       "      <td>40</td>\n",
       "      <td>9.22</td>\n",
       "    </tr>\n",
       "  </tbody>\n",
       "</table>\n",
       "</div>"
      ],
      "text/plain": [
       "    City ID            City Country                 Date      Lat      Lng  \\\n",
       "0         0          Talara      PE  2022-01-25 21:53:45  -4.5772 -81.2719   \n",
       "1         1       Cape Town      ZA  2022-01-25 21:50:37 -33.9258  18.4232   \n",
       "6         6  Port Elizabeth      ZA  2022-01-25 21:50:46 -33.9180  25.5701   \n",
       "9         9            Lima      PE  2022-01-25 21:51:53 -12.0432 -77.0282   \n",
       "10       10       Mahebourg      MU  2022-01-25 21:50:22 -20.4081  57.7000   \n",
       "\n",
       "    Max Temp  Humidity  Cloudiness  Wind Speed  \n",
       "0      74.16        73         100       11.21  \n",
       "1      68.41        76           0        7.00  \n",
       "6      69.10        88         100       10.36  \n",
       "9      75.90        71           0        7.00  \n",
       "10     75.49        73          40        9.22  "
      ]
     },
     "execution_count": 59,
     "metadata": {},
     "output_type": "execute_result"
    },
    {
     "data": {
      "text/html": [
       "<div>\n",
       "<style scoped>\n",
       "    .dataframe tbody tr th:only-of-type {\n",
       "        vertical-align: middle;\n",
       "    }\n",
       "\n",
       "    .dataframe tbody tr th {\n",
       "        vertical-align: top;\n",
       "    }\n",
       "\n",
       "    .dataframe thead th {\n",
       "        text-align: right;\n",
       "    }\n",
       "</style>\n",
       "<table border=\"1\" class=\"dataframe\">\n",
       "  <thead>\n",
       "    <tr style=\"text-align: right;\">\n",
       "      <th></th>\n",
       "      <th>City ID</th>\n",
       "      <th>City</th>\n",
       "      <th>Country</th>\n",
       "      <th>Date</th>\n",
       "      <th>Lat</th>\n",
       "      <th>Lng</th>\n",
       "      <th>Max Temp</th>\n",
       "      <th>Humidity</th>\n",
       "      <th>Cloudiness</th>\n",
       "      <th>Wind Speed</th>\n",
       "    </tr>\n",
       "  </thead>\n",
       "  <tbody>\n",
       "    <tr>\n",
       "      <th>0</th>\n",
       "      <td>0</td>\n",
       "      <td>Talara</td>\n",
       "      <td>PE</td>\n",
       "      <td>2022-01-25 21:53:45</td>\n",
       "      <td>-4.5772</td>\n",
       "      <td>-81.2719</td>\n",
       "      <td>74.16</td>\n",
       "      <td>73</td>\n",
       "      <td>100</td>\n",
       "      <td>11.21</td>\n",
       "    </tr>\n",
       "    <tr>\n",
       "      <th>1</th>\n",
       "      <td>1</td>\n",
       "      <td>Cape Town</td>\n",
       "      <td>ZA</td>\n",
       "      <td>2022-01-25 21:50:37</td>\n",
       "      <td>-33.9258</td>\n",
       "      <td>18.4232</td>\n",
       "      <td>68.41</td>\n",
       "      <td>76</td>\n",
       "      <td>0</td>\n",
       "      <td>7.00</td>\n",
       "    </tr>\n",
       "    <tr>\n",
       "      <th>2</th>\n",
       "      <td>2</td>\n",
       "      <td>Dembi Dolo</td>\n",
       "      <td>ET</td>\n",
       "      <td>2022-01-25 21:53:46</td>\n",
       "      <td>8.5333</td>\n",
       "      <td>34.8000</td>\n",
       "      <td>68.38</td>\n",
       "      <td>32</td>\n",
       "      <td>62</td>\n",
       "      <td>2.82</td>\n",
       "    </tr>\n",
       "    <tr>\n",
       "      <th>3</th>\n",
       "      <td>3</td>\n",
       "      <td>Czarnkow</td>\n",
       "      <td>PL</td>\n",
       "      <td>2022-01-25 21:53:46</td>\n",
       "      <td>52.9021</td>\n",
       "      <td>16.5641</td>\n",
       "      <td>40.55</td>\n",
       "      <td>94</td>\n",
       "      <td>77</td>\n",
       "      <td>8.79</td>\n",
       "    </tr>\n",
       "    <tr>\n",
       "      <th>4</th>\n",
       "      <td>4</td>\n",
       "      <td>Saint George</td>\n",
       "      <td>US</td>\n",
       "      <td>2022-01-25 21:48:46</td>\n",
       "      <td>37.1041</td>\n",
       "      <td>-113.5841</td>\n",
       "      <td>54.19</td>\n",
       "      <td>29</td>\n",
       "      <td>0</td>\n",
       "      <td>3.00</td>\n",
       "    </tr>\n",
       "  </tbody>\n",
       "</table>\n",
       "</div>"
      ],
      "text/plain": [
       "   City ID          City Country                 Date      Lat       Lng  \\\n",
       "0        0        Talara      PE  2022-01-25 21:53:45  -4.5772  -81.2719   \n",
       "1        1     Cape Town      ZA  2022-01-25 21:50:37 -33.9258   18.4232   \n",
       "2        2    Dembi Dolo      ET  2022-01-25 21:53:46   8.5333   34.8000   \n",
       "3        3      Czarnkow      PL  2022-01-25 21:53:46  52.9021   16.5641   \n",
       "4        4  Saint George      US  2022-01-25 21:48:46  37.1041 -113.5841   \n",
       "\n",
       "   Max Temp  Humidity  Cloudiness  Wind Speed  \n",
       "0     74.16        73         100       11.21  \n",
       "1     68.41        76           0        7.00  \n",
       "2     68.38        32          62        2.82  \n",
       "3     40.55        94          77        8.79  \n",
       "4     54.19        29           0        3.00  "
      ]
     },
     "execution_count": 59,
     "metadata": {},
     "output_type": "execute_result"
    }
   ],
   "source": [
    "city_data_df = pd.read_csv('World Weather Analysis/Weather Data/Cities_Weather.csv')\n",
    "norhem_df = city_data_df[city_data_df['Lat'] >= 0]\n",
    "sohem_df = city_data_df[city_data_df['Lat'] < 0]\n",
    "norhem_df.head()\n",
    "sohem_df.head()\n",
    "city_data_df.head()"
   ]
  },
  {
   "cell_type": "code",
   "execution_count": 141,
   "id": "a583d9f4",
   "metadata": {},
   "outputs": [
    {
     "data": {
      "image/png": "[encoded data removed]",
      "text/plain": [
       "<Figure size 720x360 with 1 Axes>"
      ]
     },
     "metadata": {
      "needs_background": "light"
     },
     "output_type": "display_data"
    },
    {
     "data": {
      "text/plain": [
       "LinregressResult(slope=-1.1295108867543437, intercept=84.01076419071933, rvalue=-0.8419195939981352, pvalue=1.9193837624584998e-112, stderr=0.035665272901095064, intercept_stderr=1.4772344977882843)"
      ]
     },
     "execution_count": 141,
     "metadata": {},
     "output_type": "execute_result"
    }
   ],
   "source": [
    "x_values = norhem_df['Lat']\n",
    "y_values = norhem_df['Max Temp']\n",
    "plot_linregress(x_values, y_values, 'Linear Regression on the Northern Hemisphere \\ for Maximum Temperature', 'Max Temp', (10,20))\n",
    "linregress(x_values, y_values)"
   ]
  },
  {
   "cell_type": "code",
   "execution_count": 34,
   "id": "fe20f291",
   "metadata": {},
   "outputs": [
    {
     "data": {
      "image/png": "[encoded data removed]",
      "text/plain": [
       "<Figure size 720x360 with 1 Axes>"
      ]
     },
     "metadata": {
      "needs_background": "light"
     },
     "output_type": "display_data"
    },
    {
     "data": {
      "text/plain": [
       "LinregressResult(slope=0.17218590722311414, intercept=78.74929967611276, rvalue=0.2896963247107473, pvalue=0.00017620936612907737, stderr=0.04483399527489909, intercept_stderr=1.0444912021234751)"
      ]
     },
     "execution_count": 34,
     "metadata": {},
     "output_type": "execute_result"
    }
   ],
   "source": [
    "x_values = sohem_df['Lat']\n",
    "y_values = sohem_df['Max Temp']\n",
    "plot_linregress(x_values, y_values, 'Title', 'Max Temp', (-15,45))\n",
    "linregress(x_values, y_values)"
   ]
  },
  {
   "cell_type": "code",
   "execution_count": 35,
   "id": "44c7735e",
   "metadata": {},
   "outputs": [
    {
     "data": {
      "image/png": "[encoded data removed]",
      "text/plain": [
       "<Figure size 720x360 with 1 Axes>"
      ]
     },
     "metadata": {
      "needs_background": "light"
     },
     "output_type": "display_data"
    }
   ],
   "source": [
    "x_values = norhem_df['Lat']\n",
    "y_values = norhem_df['Humidity']\n",
    "plot_linregress(x_values, y_values, 'Linear Regression Northern Hemisphere: \\n Latitude VS Humidity', 'Humidity (%)', (60,20))"
   ]
  },
  {
   "cell_type": "code",
   "execution_count": 36,
   "id": "02c02b8b",
   "metadata": {},
   "outputs": [
    {
     "data": {
      "image/png": "[encoded data removed]",
      "text/plain": [
       "<Figure size 720x360 with 1 Axes>"
      ]
     },
     "metadata": {
      "needs_background": "light"
     },
     "output_type": "display_data"
    },
    {
     "data": {
      "text/plain": [
       "LinregressResult(slope=0.44015343189437345, intercept=84.40290962372833, rvalue=0.3505602737143799, pvalue=4.482716442261051e-06, stderr=0.09267335077743537, intercept_stderr=2.1589978534107304)"
      ]
     },
     "execution_count": 36,
     "metadata": {},
     "output_type": "execute_result"
    }
   ],
   "source": [
    "x_values = sohem_df['Lat']\n",
    "y_values = sohem_df['Humidity']\n",
    "plot_linregress(x_values, y_values, 'Linear Regression Southern Hemisphere: \\n Latitude VS Humidity', 'Humidity (%)', (-15,30))\n",
    "linregress(x_values, y_values)"
   ]
  },
  {
   "cell_type": "code",
   "execution_count": 91,
   "id": "5510a384",
   "metadata": {},
   "outputs": [],
   "source": [
    "import pandas as pd\n",
    "import gmaps\n",
    "from Config import gkey\n",
    "\n",
    "gmaps.configure(api_key=gkey)"
   ]
  },
  {
   "cell_type": "code",
   "execution_count": 41,
   "id": "eaa21d06",
   "metadata": {},
   "outputs": [
    {
     "data": {
      "application/vnd.jupyter.widget-view+json": {
       "model_id": "645c6a7286cb4d34a96f9ed782344b82",
       "version_major": 2,
       "version_minor": 0
      },
      "text/plain": [
       "Figure(layout=FigureLayout(height='420px'))"
      ]
     },
     "metadata": {},
     "output_type": "display_data"
    }
   ],
   "source": [
    "# df = gmaps.datasets.load_dataset_as_df('earthquakes')\n",
    "# df.sort_values('magnitude', ascending=False)\n",
    "max_temp = city_data_df[\"Max Temp\"]\n",
    "temps = []\n",
    "for temp in max_temp:\n",
    "    temps.append(max(temp, 0))\n",
    "# fig = gmaps.figure().add_layer(gmaps.heatmap_layer(city_data_df[['Lat', 'Lng']], weights=temps))\n",
    "fig = gmaps.figure()\n",
    "locations = city_data_df[['Lat', 'Lng']]\n",
    "heat_layer = gmaps.heatmap_layer(locations, weights=temps, max_intensity=25, point_radius=4)\n",
    "fig.add_layer(heat_layer)\n",
    "fig"
   ]
  },
  {
   "cell_type": "code",
   "execution_count": 57,
   "id": "427433b3",
   "metadata": {},
   "outputs": [
    {
     "data": {
      "application/vnd.jupyter.widget-view+json": {
       "model_id": "e8adfab9eaf04e37acbac34d500a4b3b",
       "version_major": 2,
       "version_minor": 0
      },
      "text/plain": [
       "Figure(layout=FigureLayout(height='420px'))"
      ]
     },
     "metadata": {},
     "output_type": "display_data"
    }
   ],
   "source": [
    "# def gfigure_fun(locations, weights, max_intensity, point_radius):\n",
    "#     fig = gmaps.figure(center=(30,31), zoom_level=1.5)\n",
    "#     locations = locations\n",
    "#     heat_layer = gmaps.heatmap_layer(locations, weights=weights, max_intensity=max_intensity, point_radius=point_radius)\n",
    "#     fig.add_layer(heat_layer)\n",
    "        \n",
    "fig = gmaps.figure(center=(30,31), zoom_level=1.5)\n",
    "locations = city_data_df[['Lat', 'Lng']]\n",
    "weights = city_data_df['Humidity']\n",
    "heat_layer = gmaps.heatmap_layer(locations, weights=weights,dissipating=False, max_intensity=300, point_radius=4.5)\n",
    "fig.add_layer(heat_layer)\n",
    "fig"
   ]
  },
  {
   "cell_type": "code",
   "execution_count": 61,
   "id": "eadcf633",
   "metadata": {},
   "outputs": [
    {
     "data": {
      "application/vnd.jupyter.widget-view+json": {
       "model_id": "2200f5dabd2f4f3ca69f942f3ca95959",
       "version_major": 2,
       "version_minor": 0
      },
      "text/plain": [
       "Figure(layout=FigureLayout(height='420px'))"
      ]
     },
     "metadata": {},
     "output_type": "display_data"
    }
   ],
   "source": [
    "fig = gmaps.figure(center=(30,31), zoom_level=1.5)\n",
    "locations = city_data_df[['Lat', 'Lng']]\n",
    "weights = city_data_df['Cloudiness']\n",
    "heat_layer = gmaps.heatmap_layer(locations, weights=weights,dissipating=False, max_intensity=300, point_radius=4.5)\n",
    "fig.add_layer(heat_layer)\n",
    "fig"
   ]
  },
  {
   "cell_type": "code",
   "execution_count": 67,
   "id": "05b368ac",
   "metadata": {},
   "outputs": [
    {
     "name": "stdout",
     "output_type": "stream",
     "text": [
      "What is your minimum tolerable temperature?60\n",
      "What is your maximum tolerable temperature?90\n"
     ]
    },
    {
     "data": {
      "text/plain": [
       "City ID       False\n",
       "City          False\n",
       "Country        True\n",
       "Date          False\n",
       "Lat           False\n",
       "Lng           False\n",
       "Max Temp      False\n",
       "Humidity      False\n",
       "Cloudiness    False\n",
       "Wind Speed    False\n",
       "dtype: bool"
      ]
     },
     "execution_count": 67,
     "metadata": {},
     "output_type": "execute_result"
    }
   ],
   "source": [
    "min_temp = float(input('What is your minimum tolerable temperature?'))\n",
    "max_temp = float(input('What is your maximum tolerable temperature?'))\n"
   ]
  },
  {
   "cell_type": "code",
   "execution_count": 71,
   "id": "880d7e3f",
   "metadata": {},
   "outputs": [
    {
     "data": {
      "text/plain": [
       "City ID       False\n",
       "City          False\n",
       "Country        True\n",
       "Date          False\n",
       "Lat           False\n",
       "Lng           False\n",
       "Max Temp      False\n",
       "Humidity      False\n",
       "Cloudiness    False\n",
       "Wind Speed    False\n",
       "dtype: bool"
      ]
     },
     "execution_count": 71,
     "metadata": {},
     "output_type": "execute_result"
    },
    {
     "data": {
      "text/html": [
       "<div>\n",
       "<style scoped>\n",
       "    .dataframe tbody tr th:only-of-type {\n",
       "        vertical-align: middle;\n",
       "    }\n",
       "\n",
       "    .dataframe tbody tr th {\n",
       "        vertical-align: top;\n",
       "    }\n",
       "\n",
       "    .dataframe thead th {\n",
       "        text-align: right;\n",
       "    }\n",
       "</style>\n",
       "<table border=\"1\" class=\"dataframe\">\n",
       "  <thead>\n",
       "    <tr style=\"text-align: right;\">\n",
       "      <th></th>\n",
       "      <th>City ID</th>\n",
       "      <th>City</th>\n",
       "      <th>Country</th>\n",
       "      <th>Date</th>\n",
       "      <th>Lat</th>\n",
       "      <th>Lng</th>\n",
       "      <th>Max Temp</th>\n",
       "      <th>Humidity</th>\n",
       "      <th>Cloudiness</th>\n",
       "      <th>Wind Speed</th>\n",
       "    </tr>\n",
       "  </thead>\n",
       "  <tbody>\n",
       "    <tr>\n",
       "      <th>0</th>\n",
       "      <td>0</td>\n",
       "      <td>Talara</td>\n",
       "      <td>PE</td>\n",
       "      <td>2022-01-25 21:53:45</td>\n",
       "      <td>-4.5772</td>\n",
       "      <td>-81.2719</td>\n",
       "      <td>74.16</td>\n",
       "      <td>73</td>\n",
       "      <td>100</td>\n",
       "      <td>11.21</td>\n",
       "    </tr>\n",
       "    <tr>\n",
       "      <th>1</th>\n",
       "      <td>1</td>\n",
       "      <td>Cape Town</td>\n",
       "      <td>ZA</td>\n",
       "      <td>2022-01-25 21:50:37</td>\n",
       "      <td>-33.9258</td>\n",
       "      <td>18.4232</td>\n",
       "      <td>68.41</td>\n",
       "      <td>76</td>\n",
       "      <td>0</td>\n",
       "      <td>7.00</td>\n",
       "    </tr>\n",
       "    <tr>\n",
       "      <th>2</th>\n",
       "      <td>2</td>\n",
       "      <td>Dembi Dolo</td>\n",
       "      <td>ET</td>\n",
       "      <td>2022-01-25 21:53:46</td>\n",
       "      <td>8.5333</td>\n",
       "      <td>34.8000</td>\n",
       "      <td>68.38</td>\n",
       "      <td>32</td>\n",
       "      <td>62</td>\n",
       "      <td>2.82</td>\n",
       "    </tr>\n",
       "    <tr>\n",
       "      <th>6</th>\n",
       "      <td>6</td>\n",
       "      <td>Port Elizabeth</td>\n",
       "      <td>ZA</td>\n",
       "      <td>2022-01-25 21:50:46</td>\n",
       "      <td>-33.9180</td>\n",
       "      <td>25.5701</td>\n",
       "      <td>69.10</td>\n",
       "      <td>88</td>\n",
       "      <td>100</td>\n",
       "      <td>10.36</td>\n",
       "    </tr>\n",
       "    <tr>\n",
       "      <th>9</th>\n",
       "      <td>9</td>\n",
       "      <td>Lima</td>\n",
       "      <td>PE</td>\n",
       "      <td>2022-01-25 21:51:53</td>\n",
       "      <td>-12.0432</td>\n",
       "      <td>-77.0282</td>\n",
       "      <td>75.90</td>\n",
       "      <td>71</td>\n",
       "      <td>0</td>\n",
       "      <td>7.00</td>\n",
       "    </tr>\n",
       "    <tr>\n",
       "      <th>...</th>\n",
       "      <td>...</td>\n",
       "      <td>...</td>\n",
       "      <td>...</td>\n",
       "      <td>...</td>\n",
       "      <td>...</td>\n",
       "      <td>...</td>\n",
       "      <td>...</td>\n",
       "      <td>...</td>\n",
       "      <td>...</td>\n",
       "      <td>...</td>\n",
       "    </tr>\n",
       "    <tr>\n",
       "      <th>570</th>\n",
       "      <td>570</td>\n",
       "      <td>Adrar</td>\n",
       "      <td>MR</td>\n",
       "      <td>2022-01-25 21:51:05</td>\n",
       "      <td>20.5022</td>\n",
       "      <td>-10.0711</td>\n",
       "      <td>70.75</td>\n",
       "      <td>14</td>\n",
       "      <td>100</td>\n",
       "      <td>8.66</td>\n",
       "    </tr>\n",
       "    <tr>\n",
       "      <th>571</th>\n",
       "      <td>571</td>\n",
       "      <td>Ambilobe</td>\n",
       "      <td>MG</td>\n",
       "      <td>2022-01-25 21:56:25</td>\n",
       "      <td>-13.2000</td>\n",
       "      <td>49.0500</td>\n",
       "      <td>72.34</td>\n",
       "      <td>94</td>\n",
       "      <td>95</td>\n",
       "      <td>2.57</td>\n",
       "    </tr>\n",
       "    <tr>\n",
       "      <th>572</th>\n",
       "      <td>572</td>\n",
       "      <td>Doha</td>\n",
       "      <td>QA</td>\n",
       "      <td>2022-01-25 21:51:32</td>\n",
       "      <td>25.2867</td>\n",
       "      <td>51.5333</td>\n",
       "      <td>62.49</td>\n",
       "      <td>65</td>\n",
       "      <td>0</td>\n",
       "      <td>3.44</td>\n",
       "    </tr>\n",
       "    <tr>\n",
       "      <th>574</th>\n",
       "      <td>574</td>\n",
       "      <td>Carnarvon</td>\n",
       "      <td>AU</td>\n",
       "      <td>2022-01-25 21:56:26</td>\n",
       "      <td>-24.8667</td>\n",
       "      <td>113.6333</td>\n",
       "      <td>73.47</td>\n",
       "      <td>83</td>\n",
       "      <td>0</td>\n",
       "      <td>14.97</td>\n",
       "    </tr>\n",
       "    <tr>\n",
       "      <th>576</th>\n",
       "      <td>576</td>\n",
       "      <td>Kaabong</td>\n",
       "      <td>UG</td>\n",
       "      <td>2022-01-25 21:56:26</td>\n",
       "      <td>3.4836</td>\n",
       "      <td>34.1492</td>\n",
       "      <td>69.55</td>\n",
       "      <td>38</td>\n",
       "      <td>75</td>\n",
       "      <td>4.56</td>\n",
       "    </tr>\n",
       "  </tbody>\n",
       "</table>\n",
       "<p>285 rows × 10 columns</p>\n",
       "</div>"
      ],
      "text/plain": [
       "     City ID            City Country                 Date      Lat       Lng  \\\n",
       "0          0          Talara      PE  2022-01-25 21:53:45  -4.5772  -81.2719   \n",
       "1          1       Cape Town      ZA  2022-01-25 21:50:37 -33.9258   18.4232   \n",
       "2          2      Dembi Dolo      ET  2022-01-25 21:53:46   8.5333   34.8000   \n",
       "6          6  Port Elizabeth      ZA  2022-01-25 21:50:46 -33.9180   25.5701   \n",
       "9          9            Lima      PE  2022-01-25 21:51:53 -12.0432  -77.0282   \n",
       "..       ...             ...     ...                  ...      ...       ...   \n",
       "570      570           Adrar      MR  2022-01-25 21:51:05  20.5022  -10.0711   \n",
       "571      571        Ambilobe      MG  2022-01-25 21:56:25 -13.2000   49.0500   \n",
       "572      572            Doha      QA  2022-01-25 21:51:32  25.2867   51.5333   \n",
       "574      574       Carnarvon      AU  2022-01-25 21:56:26 -24.8667  113.6333   \n",
       "576      576         Kaabong      UG  2022-01-25 21:56:26   3.4836   34.1492   \n",
       "\n",
       "     Max Temp  Humidity  Cloudiness  Wind Speed  \n",
       "0       74.16        73         100       11.21  \n",
       "1       68.41        76           0        7.00  \n",
       "2       68.38        32          62        2.82  \n",
       "6       69.10        88         100       10.36  \n",
       "9       75.90        71           0        7.00  \n",
       "..        ...       ...         ...         ...  \n",
       "570     70.75        14         100        8.66  \n",
       "571     72.34        94          95        2.57  \n",
       "572     62.49        65           0        3.44  \n",
       "574     73.47        83           0       14.97  \n",
       "576     69.55        38          75        4.56  \n",
       "\n",
       "[285 rows x 10 columns]"
      ]
     },
     "execution_count": 71,
     "metadata": {},
     "output_type": "execute_result"
    }
   ],
   "source": [
    "preferred_cities_df = city_data_df.loc[(city_data_df['Max Temp'] >= min_temp)&(city_data_df['Max Temp'] <= max_temp)]\n",
    "preferred_cities_df.isnull().any()"
   ]
  },
  {
   "cell_type": "code",
   "execution_count": 76,
   "id": "d80fd5bf",
   "metadata": {},
   "outputs": [
    {
     "data": {
      "text/html": [
       "<div>\n",
       "<style scoped>\n",
       "    .dataframe tbody tr th:only-of-type {\n",
       "        vertical-align: middle;\n",
       "    }\n",
       "\n",
       "    .dataframe tbody tr th {\n",
       "        vertical-align: top;\n",
       "    }\n",
       "\n",
       "    .dataframe thead th {\n",
       "        text-align: right;\n",
       "    }\n",
       "</style>\n",
       "<table border=\"1\" class=\"dataframe\">\n",
       "  <thead>\n",
       "    <tr style=\"text-align: right;\">\n",
       "      <th></th>\n",
       "      <th>City ID</th>\n",
       "      <th>City</th>\n",
       "      <th>Country</th>\n",
       "      <th>Date</th>\n",
       "      <th>Lat</th>\n",
       "      <th>Lng</th>\n",
       "      <th>Max Temp</th>\n",
       "      <th>Humidity</th>\n",
       "      <th>Cloudiness</th>\n",
       "      <th>Wind Speed</th>\n",
       "    </tr>\n",
       "  </thead>\n",
       "  <tbody>\n",
       "    <tr>\n",
       "      <th>0</th>\n",
       "      <td>False</td>\n",
       "      <td>False</td>\n",
       "      <td>False</td>\n",
       "      <td>False</td>\n",
       "      <td>False</td>\n",
       "      <td>False</td>\n",
       "      <td>False</td>\n",
       "      <td>False</td>\n",
       "      <td>False</td>\n",
       "      <td>False</td>\n",
       "    </tr>\n",
       "    <tr>\n",
       "      <th>1</th>\n",
       "      <td>False</td>\n",
       "      <td>False</td>\n",
       "      <td>False</td>\n",
       "      <td>False</td>\n",
       "      <td>False</td>\n",
       "      <td>False</td>\n",
       "      <td>False</td>\n",
       "      <td>False</td>\n",
       "      <td>False</td>\n",
       "      <td>False</td>\n",
       "    </tr>\n",
       "    <tr>\n",
       "      <th>2</th>\n",
       "      <td>False</td>\n",
       "      <td>False</td>\n",
       "      <td>False</td>\n",
       "      <td>False</td>\n",
       "      <td>False</td>\n",
       "      <td>False</td>\n",
       "      <td>False</td>\n",
       "      <td>False</td>\n",
       "      <td>False</td>\n",
       "      <td>False</td>\n",
       "    </tr>\n",
       "    <tr>\n",
       "      <th>6</th>\n",
       "      <td>False</td>\n",
       "      <td>False</td>\n",
       "      <td>False</td>\n",
       "      <td>False</td>\n",
       "      <td>False</td>\n",
       "      <td>False</td>\n",
       "      <td>False</td>\n",
       "      <td>False</td>\n",
       "      <td>False</td>\n",
       "      <td>False</td>\n",
       "    </tr>\n",
       "    <tr>\n",
       "      <th>9</th>\n",
       "      <td>False</td>\n",
       "      <td>False</td>\n",
       "      <td>False</td>\n",
       "      <td>False</td>\n",
       "      <td>False</td>\n",
       "      <td>False</td>\n",
       "      <td>False</td>\n",
       "      <td>False</td>\n",
       "      <td>False</td>\n",
       "      <td>False</td>\n",
       "    </tr>\n",
       "    <tr>\n",
       "      <th>...</th>\n",
       "      <td>...</td>\n",
       "      <td>...</td>\n",
       "      <td>...</td>\n",
       "      <td>...</td>\n",
       "      <td>...</td>\n",
       "      <td>...</td>\n",
       "      <td>...</td>\n",
       "      <td>...</td>\n",
       "      <td>...</td>\n",
       "      <td>...</td>\n",
       "    </tr>\n",
       "    <tr>\n",
       "      <th>570</th>\n",
       "      <td>False</td>\n",
       "      <td>False</td>\n",
       "      <td>False</td>\n",
       "      <td>False</td>\n",
       "      <td>False</td>\n",
       "      <td>False</td>\n",
       "      <td>False</td>\n",
       "      <td>False</td>\n",
       "      <td>False</td>\n",
       "      <td>False</td>\n",
       "    </tr>\n",
       "    <tr>\n",
       "      <th>571</th>\n",
       "      <td>False</td>\n",
       "      <td>False</td>\n",
       "      <td>False</td>\n",
       "      <td>False</td>\n",
       "      <td>False</td>\n",
       "      <td>False</td>\n",
       "      <td>False</td>\n",
       "      <td>False</td>\n",
       "      <td>False</td>\n",
       "      <td>False</td>\n",
       "    </tr>\n",
       "    <tr>\n",
       "      <th>572</th>\n",
       "      <td>False</td>\n",
       "      <td>False</td>\n",
       "      <td>False</td>\n",
       "      <td>False</td>\n",
       "      <td>False</td>\n",
       "      <td>False</td>\n",
       "      <td>False</td>\n",
       "      <td>False</td>\n",
       "      <td>False</td>\n",
       "      <td>False</td>\n",
       "    </tr>\n",
       "    <tr>\n",
       "      <th>574</th>\n",
       "      <td>False</td>\n",
       "      <td>False</td>\n",
       "      <td>False</td>\n",
       "      <td>False</td>\n",
       "      <td>False</td>\n",
       "      <td>False</td>\n",
       "      <td>False</td>\n",
       "      <td>False</td>\n",
       "      <td>False</td>\n",
       "      <td>False</td>\n",
       "    </tr>\n",
       "    <tr>\n",
       "      <th>576</th>\n",
       "      <td>False</td>\n",
       "      <td>False</td>\n",
       "      <td>False</td>\n",
       "      <td>False</td>\n",
       "      <td>False</td>\n",
       "      <td>False</td>\n",
       "      <td>False</td>\n",
       "      <td>False</td>\n",
       "      <td>False</td>\n",
       "      <td>False</td>\n",
       "    </tr>\n",
       "  </tbody>\n",
       "</table>\n",
       "<p>285 rows × 10 columns</p>\n",
       "</div>"
      ],
      "text/plain": [
       "     City ID   City  Country   Date    Lat    Lng  Max Temp  Humidity  \\\n",
       "0      False  False    False  False  False  False     False     False   \n",
       "1      False  False    False  False  False  False     False     False   \n",
       "2      False  False    False  False  False  False     False     False   \n",
       "6      False  False    False  False  False  False     False     False   \n",
       "9      False  False    False  False  False  False     False     False   \n",
       "..       ...    ...      ...    ...    ...    ...       ...       ...   \n",
       "570    False  False    False  False  False  False     False     False   \n",
       "571    False  False    False  False  False  False     False     False   \n",
       "572    False  False    False  False  False  False     False     False   \n",
       "574    False  False    False  False  False  False     False     False   \n",
       "576    False  False    False  False  False  False     False     False   \n",
       "\n",
       "     Cloudiness  Wind Speed  \n",
       "0         False       False  \n",
       "1         False       False  \n",
       "2         False       False  \n",
       "6         False       False  \n",
       "9         False       False  \n",
       "..          ...         ...  \n",
       "570       False       False  \n",
       "571       False       False  \n",
       "572       False       False  \n",
       "574       False       False  \n",
       "576       False       False  \n",
       "\n",
       "[285 rows x 10 columns]"
      ]
     },
     "execution_count": 76,
     "metadata": {},
     "output_type": "execute_result"
    },
    {
     "data": {
      "text/html": [
       "<div>\n",
       "<style scoped>\n",
       "    .dataframe tbody tr th:only-of-type {\n",
       "        vertical-align: middle;\n",
       "    }\n",
       "\n",
       "    .dataframe tbody tr th {\n",
       "        vertical-align: top;\n",
       "    }\n",
       "\n",
       "    .dataframe thead th {\n",
       "        text-align: right;\n",
       "    }\n",
       "</style>\n",
       "<table border=\"1\" class=\"dataframe\">\n",
       "  <thead>\n",
       "    <tr style=\"text-align: right;\">\n",
       "      <th></th>\n",
       "      <th>City ID</th>\n",
       "      <th>City</th>\n",
       "      <th>Country</th>\n",
       "      <th>Date</th>\n",
       "      <th>Lat</th>\n",
       "      <th>Lng</th>\n",
       "      <th>Max Temp</th>\n",
       "      <th>Humidity</th>\n",
       "      <th>Cloudiness</th>\n",
       "      <th>Wind Speed</th>\n",
       "    </tr>\n",
       "  </thead>\n",
       "  <tbody>\n",
       "    <tr>\n",
       "      <th>0</th>\n",
       "      <td>0</td>\n",
       "      <td>Talara</td>\n",
       "      <td>PE</td>\n",
       "      <td>2022-01-25 21:53:45</td>\n",
       "      <td>-4.5772</td>\n",
       "      <td>-81.2719</td>\n",
       "      <td>74.16</td>\n",
       "      <td>73</td>\n",
       "      <td>100</td>\n",
       "      <td>11.21</td>\n",
       "    </tr>\n",
       "    <tr>\n",
       "      <th>1</th>\n",
       "      <td>1</td>\n",
       "      <td>Cape Town</td>\n",
       "      <td>ZA</td>\n",
       "      <td>2022-01-25 21:50:37</td>\n",
       "      <td>-33.9258</td>\n",
       "      <td>18.4232</td>\n",
       "      <td>68.41</td>\n",
       "      <td>76</td>\n",
       "      <td>0</td>\n",
       "      <td>7.00</td>\n",
       "    </tr>\n",
       "    <tr>\n",
       "      <th>2</th>\n",
       "      <td>2</td>\n",
       "      <td>Dembi Dolo</td>\n",
       "      <td>ET</td>\n",
       "      <td>2022-01-25 21:53:46</td>\n",
       "      <td>8.5333</td>\n",
       "      <td>34.8000</td>\n",
       "      <td>68.38</td>\n",
       "      <td>32</td>\n",
       "      <td>62</td>\n",
       "      <td>2.82</td>\n",
       "    </tr>\n",
       "    <tr>\n",
       "      <th>6</th>\n",
       "      <td>6</td>\n",
       "      <td>Port Elizabeth</td>\n",
       "      <td>ZA</td>\n",
       "      <td>2022-01-25 21:50:46</td>\n",
       "      <td>-33.9180</td>\n",
       "      <td>25.5701</td>\n",
       "      <td>69.10</td>\n",
       "      <td>88</td>\n",
       "      <td>100</td>\n",
       "      <td>10.36</td>\n",
       "    </tr>\n",
       "    <tr>\n",
       "      <th>9</th>\n",
       "      <td>9</td>\n",
       "      <td>Lima</td>\n",
       "      <td>PE</td>\n",
       "      <td>2022-01-25 21:51:53</td>\n",
       "      <td>-12.0432</td>\n",
       "      <td>-77.0282</td>\n",
       "      <td>75.90</td>\n",
       "      <td>71</td>\n",
       "      <td>0</td>\n",
       "      <td>7.00</td>\n",
       "    </tr>\n",
       "    <tr>\n",
       "      <th>...</th>\n",
       "      <td>...</td>\n",
       "      <td>...</td>\n",
       "      <td>...</td>\n",
       "      <td>...</td>\n",
       "      <td>...</td>\n",
       "      <td>...</td>\n",
       "      <td>...</td>\n",
       "      <td>...</td>\n",
       "      <td>...</td>\n",
       "      <td>...</td>\n",
       "    </tr>\n",
       "    <tr>\n",
       "      <th>570</th>\n",
       "      <td>570</td>\n",
       "      <td>Adrar</td>\n",
       "      <td>MR</td>\n",
       "      <td>2022-01-25 21:51:05</td>\n",
       "      <td>20.5022</td>\n",
       "      <td>-10.0711</td>\n",
       "      <td>70.75</td>\n",
       "      <td>14</td>\n",
       "      <td>100</td>\n",
       "      <td>8.66</td>\n",
       "    </tr>\n",
       "    <tr>\n",
       "      <th>571</th>\n",
       "      <td>571</td>\n",
       "      <td>Ambilobe</td>\n",
       "      <td>MG</td>\n",
       "      <td>2022-01-25 21:56:25</td>\n",
       "      <td>-13.2000</td>\n",
       "      <td>49.0500</td>\n",
       "      <td>72.34</td>\n",
       "      <td>94</td>\n",
       "      <td>95</td>\n",
       "      <td>2.57</td>\n",
       "    </tr>\n",
       "    <tr>\n",
       "      <th>572</th>\n",
       "      <td>572</td>\n",
       "      <td>Doha</td>\n",
       "      <td>QA</td>\n",
       "      <td>2022-01-25 21:51:32</td>\n",
       "      <td>25.2867</td>\n",
       "      <td>51.5333</td>\n",
       "      <td>62.49</td>\n",
       "      <td>65</td>\n",
       "      <td>0</td>\n",
       "      <td>3.44</td>\n",
       "    </tr>\n",
       "    <tr>\n",
       "      <th>574</th>\n",
       "      <td>574</td>\n",
       "      <td>Carnarvon</td>\n",
       "      <td>AU</td>\n",
       "      <td>2022-01-25 21:56:26</td>\n",
       "      <td>-24.8667</td>\n",
       "      <td>113.6333</td>\n",
       "      <td>73.47</td>\n",
       "      <td>83</td>\n",
       "      <td>0</td>\n",
       "      <td>14.97</td>\n",
       "    </tr>\n",
       "    <tr>\n",
       "      <th>576</th>\n",
       "      <td>576</td>\n",
       "      <td>Kaabong</td>\n",
       "      <td>UG</td>\n",
       "      <td>2022-01-25 21:56:26</td>\n",
       "      <td>3.4836</td>\n",
       "      <td>34.1492</td>\n",
       "      <td>69.55</td>\n",
       "      <td>38</td>\n",
       "      <td>75</td>\n",
       "      <td>4.56</td>\n",
       "    </tr>\n",
       "  </tbody>\n",
       "</table>\n",
       "<p>285 rows × 10 columns</p>\n",
       "</div>"
      ],
      "text/plain": [
       "     City ID            City Country                 Date      Lat       Lng  \\\n",
       "0          0          Talara      PE  2022-01-25 21:53:45  -4.5772  -81.2719   \n",
       "1          1       Cape Town      ZA  2022-01-25 21:50:37 -33.9258   18.4232   \n",
       "2          2      Dembi Dolo      ET  2022-01-25 21:53:46   8.5333   34.8000   \n",
       "6          6  Port Elizabeth      ZA  2022-01-25 21:50:46 -33.9180   25.5701   \n",
       "9          9            Lima      PE  2022-01-25 21:51:53 -12.0432  -77.0282   \n",
       "..       ...             ...     ...                  ...      ...       ...   \n",
       "570      570           Adrar      MR  2022-01-25 21:51:05  20.5022  -10.0711   \n",
       "571      571        Ambilobe      MG  2022-01-25 21:56:25 -13.2000   49.0500   \n",
       "572      572            Doha      QA  2022-01-25 21:51:32  25.2867   51.5333   \n",
       "574      574       Carnarvon      AU  2022-01-25 21:56:26 -24.8667  113.6333   \n",
       "576      576         Kaabong      UG  2022-01-25 21:56:26   3.4836   34.1492   \n",
       "\n",
       "     Max Temp  Humidity  Cloudiness  Wind Speed  \n",
       "0       74.16        73         100       11.21  \n",
       "1       68.41        76           0        7.00  \n",
       "2       68.38        32          62        2.82  \n",
       "6       69.10        88         100       10.36  \n",
       "9       75.90        71           0        7.00  \n",
       "..        ...       ...         ...         ...  \n",
       "570     70.75        14         100        8.66  \n",
       "571     72.34        94          95        2.57  \n",
       "572     62.49        65           0        3.44  \n",
       "574     73.47        83           0       14.97  \n",
       "576     69.55        38          75        4.56  \n",
       "\n",
       "[285 rows x 10 columns]"
      ]
     },
     "execution_count": 76,
     "metadata": {},
     "output_type": "execute_result"
    }
   ],
   "source": [
    "preferred_cities_df = preferred_cities_df.dropna()\n",
    "preferred_cities_df.isnull().any()\n",
    "preferred_cities_df"
   ]
  },
  {
   "cell_type": "code",
   "execution_count": 75,
   "id": "9d26a3c1",
   "metadata": {},
   "outputs": [
    {
     "data": {
      "text/html": [
       "<div>\n",
       "<style scoped>\n",
       "    .dataframe tbody tr th:only-of-type {\n",
       "        vertical-align: middle;\n",
       "    }\n",
       "\n",
       "    .dataframe tbody tr th {\n",
       "        vertical-align: top;\n",
       "    }\n",
       "\n",
       "    .dataframe thead th {\n",
       "        text-align: right;\n",
       "    }\n",
       "</style>\n",
       "<table border=\"1\" class=\"dataframe\">\n",
       "  <thead>\n",
       "    <tr style=\"text-align: right;\">\n",
       "      <th></th>\n",
       "      <th>City</th>\n",
       "      <th>Country</th>\n",
       "      <th>Max Temp</th>\n",
       "      <th>Lat</th>\n",
       "      <th>Lng</th>\n",
       "    </tr>\n",
       "  </thead>\n",
       "  <tbody>\n",
       "    <tr>\n",
       "      <th>0</th>\n",
       "      <td>Talara</td>\n",
       "      <td>PE</td>\n",
       "      <td>74.16</td>\n",
       "      <td>-4.5772</td>\n",
       "      <td>-81.2719</td>\n",
       "    </tr>\n",
       "    <tr>\n",
       "      <th>1</th>\n",
       "      <td>Cape Town</td>\n",
       "      <td>ZA</td>\n",
       "      <td>68.41</td>\n",
       "      <td>-33.9258</td>\n",
       "      <td>18.4232</td>\n",
       "    </tr>\n",
       "    <tr>\n",
       "      <th>2</th>\n",
       "      <td>Dembi Dolo</td>\n",
       "      <td>ET</td>\n",
       "      <td>68.38</td>\n",
       "      <td>8.5333</td>\n",
       "      <td>34.8000</td>\n",
       "    </tr>\n",
       "    <tr>\n",
       "      <th>6</th>\n",
       "      <td>Port Elizabeth</td>\n",
       "      <td>ZA</td>\n",
       "      <td>69.10</td>\n",
       "      <td>-33.9180</td>\n",
       "      <td>25.5701</td>\n",
       "    </tr>\n",
       "    <tr>\n",
       "      <th>9</th>\n",
       "      <td>Lima</td>\n",
       "      <td>PE</td>\n",
       "      <td>75.90</td>\n",
       "      <td>-12.0432</td>\n",
       "      <td>-77.0282</td>\n",
       "    </tr>\n",
       "    <tr>\n",
       "      <th>...</th>\n",
       "      <td>...</td>\n",
       "      <td>...</td>\n",
       "      <td>...</td>\n",
       "      <td>...</td>\n",
       "      <td>...</td>\n",
       "    </tr>\n",
       "    <tr>\n",
       "      <th>570</th>\n",
       "      <td>Adrar</td>\n",
       "      <td>MR</td>\n",
       "      <td>70.75</td>\n",
       "      <td>20.5022</td>\n",
       "      <td>-10.0711</td>\n",
       "    </tr>\n",
       "    <tr>\n",
       "      <th>571</th>\n",
       "      <td>Ambilobe</td>\n",
       "      <td>MG</td>\n",
       "      <td>72.34</td>\n",
       "      <td>-13.2000</td>\n",
       "      <td>49.0500</td>\n",
       "    </tr>\n",
       "    <tr>\n",
       "      <th>572</th>\n",
       "      <td>Doha</td>\n",
       "      <td>QA</td>\n",
       "      <td>62.49</td>\n",
       "      <td>25.2867</td>\n",
       "      <td>51.5333</td>\n",
       "    </tr>\n",
       "    <tr>\n",
       "      <th>574</th>\n",
       "      <td>Carnarvon</td>\n",
       "      <td>AU</td>\n",
       "      <td>73.47</td>\n",
       "      <td>-24.8667</td>\n",
       "      <td>113.6333</td>\n",
       "    </tr>\n",
       "    <tr>\n",
       "      <th>576</th>\n",
       "      <td>Kaabong</td>\n",
       "      <td>UG</td>\n",
       "      <td>69.55</td>\n",
       "      <td>3.4836</td>\n",
       "      <td>34.1492</td>\n",
       "    </tr>\n",
       "  </tbody>\n",
       "</table>\n",
       "<p>285 rows × 5 columns</p>\n",
       "</div>"
      ],
      "text/plain": [
       "               City Country  Max Temp      Lat       Lng\n",
       "0            Talara      PE     74.16  -4.5772  -81.2719\n",
       "1         Cape Town      ZA     68.41 -33.9258   18.4232\n",
       "2        Dembi Dolo      ET     68.38   8.5333   34.8000\n",
       "6    Port Elizabeth      ZA     69.10 -33.9180   25.5701\n",
       "9              Lima      PE     75.90 -12.0432  -77.0282\n",
       "..              ...     ...       ...      ...       ...\n",
       "570           Adrar      MR     70.75  20.5022  -10.0711\n",
       "571        Ambilobe      MG     72.34 -13.2000   49.0500\n",
       "572            Doha      QA     62.49  25.2867   51.5333\n",
       "574       Carnarvon      AU     73.47 -24.8667  113.6333\n",
       "576         Kaabong      UG     69.55   3.4836   34.1492\n",
       "\n",
       "[285 rows x 5 columns]"
      ]
     },
     "execution_count": 75,
     "metadata": {},
     "output_type": "execute_result"
    }
   ],
   "source": [
    "hotel_df = preferred_cities_df[['City', 'Country', 'Max Temp', 'Lat', 'Lng', ]].copy()\n",
    "hotel_df['Hotel Name'] = ''\n",
    "\n"
   ]
  },
  {
   "cell_type": "code",
   "execution_count": 127,
   "id": "3966d6c9",
   "metadata": {},
   "outputs": [
    {
     "data": {
      "text/plain": [
       "'-4.5772,-81.2719'"
      ]
     },
     "execution_count": 127,
     "metadata": {},
     "output_type": "execute_result"
    },
    {
     "data": {
      "text/plain": [
       "'-33.9258,18.4232'"
      ]
     },
     "execution_count": 127,
     "metadata": {},
     "output_type": "execute_result"
    },
    {
     "data": {
      "text/plain": [
       "'8.5333,34.8'"
      ]
     },
     "execution_count": 127,
     "metadata": {},
     "output_type": "execute_result"
    },
    {
     "data": {
      "text/plain": [
       "'-33.918,25.5701'"
      ]
     },
     "execution_count": 127,
     "metadata": {},
     "output_type": "execute_result"
    },
    {
     "data": {
      "text/plain": [
       "'-12.0432,-77.0282'"
      ]
     },
     "execution_count": 127,
     "metadata": {},
     "output_type": "execute_result"
    },
    {
     "data": {
      "text/plain": [
       "'-20.4081,57.7'"
      ]
     },
     "execution_count": 127,
     "metadata": {},
     "output_type": "execute_result"
    },
    {
     "data": {
      "text/plain": [
       "'-38.0023,-57.5575'"
      ]
     },
     "execution_count": 127,
     "metadata": {},
     "output_type": "execute_result"
    },
    {
     "data": {
      "text/plain": [
       "'-25.4,-70.4833'"
      ]
     },
     "execution_count": 127,
     "metadata": {},
     "output_type": "execute_result"
    },
    {
     "data": {
      "text/plain": [
       "'-24.7911,-50.0119'"
      ]
     },
     "execution_count": 127,
     "metadata": {},
     "output_type": "execute_result"
    },
    {
     "data": {
      "text/plain": [
       "'-38.2667,141.9667'"
      ]
     },
     "execution_count": 127,
     "metadata": {},
     "output_type": "execute_result"
    },
    {
     "data": {
      "text/plain": [
       "'-2.9248,-39.9167'"
      ]
     },
     "execution_count": 127,
     "metadata": {},
     "output_type": "execute_result"
    },
    {
     "data": {
      "text/plain": [
       "'-0.7193,8.7815'"
      ]
     },
     "execution_count": 127,
     "metadata": {},
     "output_type": "execute_result"
    },
    {
     "data": {
      "text/plain": [
       "'0.5738,12.8642'"
      ]
     },
     "execution_count": 127,
     "metadata": {},
     "output_type": "execute_result"
    },
    {
     "data": {
      "text/plain": [
       "'8.3018,30.1418'"
      ]
     },
     "execution_count": 127,
     "metadata": {},
     "output_type": "execute_result"
    },
    {
     "name": "stdout",
     "output_type": "stream",
     "text": [
      "No hotel here\n"
     ]
    },
    {
     "data": {
      "text/plain": [
       "'21.2833,-88.2667'"
      ]
     },
     "execution_count": 127,
     "metadata": {},
     "output_type": "execute_result"
    },
    {
     "data": {
      "text/plain": [
       "'-26.8241,-65.2226'"
      ]
     },
     "execution_count": 127,
     "metadata": {},
     "output_type": "execute_result"
    },
    {
     "data": {
      "text/plain": [
       "'-20.2078,57.7625'"
      ]
     },
     "execution_count": 127,
     "metadata": {},
     "output_type": "execute_result"
    },
    {
     "data": {
      "text/plain": [
       "'17.0151,54.0924'"
      ]
     },
     "execution_count": 127,
     "metadata": {},
     "output_type": "execute_result"
    },
    {
     "data": {
      "text/plain": [
       "'-33.65,115.3333'"
      ]
     },
     "execution_count": 127,
     "metadata": {},
     "output_type": "execute_result"
    },
    {
     "data": {
      "text/plain": [
       "'13.2167,-59.5167'"
      ]
     },
     "execution_count": 127,
     "metadata": {},
     "output_type": "execute_result"
    },
    {
     "data": {
      "text/plain": [
       "'-21.3585,55.7679'"
      ]
     },
     "execution_count": 127,
     "metadata": {},
     "output_type": "execute_result"
    },
    {
     "data": {
      "text/plain": [
       "'11.6667,92.75'"
      ]
     },
     "execution_count": 127,
     "metadata": {},
     "output_type": "execute_result"
    },
    {
     "data": {
      "text/plain": [
       "'36.0397,-114.9819'"
      ]
     },
     "execution_count": 127,
     "metadata": {},
     "output_type": "execute_result"
    },
    {
     "data": {
      "text/plain": [
       "'-23.65,-70.4'"
      ]
     },
     "execution_count": 127,
     "metadata": {},
     "output_type": "execute_result"
    },
    {
     "data": {
      "text/plain": [
       "'15.1139,37.5928'"
      ]
     },
     "execution_count": 127,
     "metadata": {},
     "output_type": "execute_result"
    },
    {
     "name": "stdout",
     "output_type": "stream",
     "text": [
      "No hotel here\n"
     ]
    },
    {
     "data": {
      "text/plain": [
       "'-34.4187,19.2345'"
      ]
     },
     "execution_count": 127,
     "metadata": {},
     "output_type": "execute_result"
    },
    {
     "data": {
      "text/plain": [
       "'-3.6667,-45.38'"
      ]
     },
     "execution_count": 127,
     "metadata": {},
     "output_type": "execute_result"
    },
    {
     "data": {
      "text/plain": [
       "'10.9995,122.6711'"
      ]
     },
     "execution_count": 127,
     "metadata": {},
     "output_type": "execute_result"
    },
    {
     "data": {
      "text/plain": [
       "'5.3833,-52.95'"
      ]
     },
     "execution_count": 127,
     "metadata": {},
     "output_type": "execute_result"
    },
    {
     "data": {
      "text/plain": [
       "'-14.2667,50.1667'"
      ]
     },
     "execution_count": 127,
     "metadata": {},
     "output_type": "execute_result"
    },
    {
     "data": {
      "text/plain": [
       "'-0.6,73.0833'"
      ]
     },
     "execution_count": 127,
     "metadata": {},
     "output_type": "execute_result"
    },
    {
     "data": {
      "text/plain": [
       "'32.6667,-17.1'"
      ]
     },
     "execution_count": 127,
     "metadata": {},
     "output_type": "execute_result"
    },
    {
     "data": {
      "text/plain": [
       "'5.6667,73.0'"
      ]
     },
     "execution_count": 127,
     "metadata": {},
     "output_type": "execute_result"
    },
    {
     "data": {
      "text/plain": [
       "'14.8961,-24.4956'"
      ]
     },
     "execution_count": 127,
     "metadata": {},
     "output_type": "execute_result"
    },
    {
     "data": {
      "text/plain": [
       "'28.4682,-16.2546'"
      ]
     },
     "execution_count": 127,
     "metadata": {},
     "output_type": "execute_result"
    },
    {
     "data": {
      "text/plain": [
       "'-43.3002,-65.1023'"
      ]
     },
     "execution_count": 127,
     "metadata": {},
     "output_type": "execute_result"
    },
    {
     "data": {
      "text/plain": [
       "'6.9833,35.5833'"
      ]
     },
     "execution_count": 127,
     "metadata": {},
     "output_type": "execute_result"
    },
    {
     "data": {
      "text/plain": [
       "'-34.5322,20.0403'"
      ]
     },
     "execution_count": 127,
     "metadata": {},
     "output_type": "execute_result"
    },
    {
     "data": {
      "text/plain": [
       "'-4.4553,-43.8856'"
      ]
     },
     "execution_count": 127,
     "metadata": {},
     "output_type": "execute_result"
    },
    {
     "data": {
      "text/plain": [
       "'-33.6971,-53.4616'"
      ]
     },
     "execution_count": 127,
     "metadata": {},
     "output_type": "execute_result"
    },
    {
     "data": {
      "text/plain": [
       "'-13.6202,29.3939'"
      ]
     },
     "execution_count": 127,
     "metadata": {},
     "output_type": "execute_result"
    },
    {
     "data": {
      "text/plain": [
       "'4.9333,-52.3333'"
      ]
     },
     "execution_count": 127,
     "metadata": {},
     "output_type": "execute_result"
    },
    {
     "data": {
      "text/plain": [
       "'26.5412,-77.0636'"
      ]
     },
     "execution_count": 127,
     "metadata": {},
     "output_type": "execute_result"
    },
    {
     "data": {
      "text/plain": [
       "'3.0833,-59.95'"
      ]
     },
     "execution_count": 127,
     "metadata": {},
     "output_type": "execute_result"
    },
    {
     "name": "stdout",
     "output_type": "stream",
     "text": [
      "No hotel here\n"
     ]
    },
    {
     "data": {
      "text/plain": [
       "'5.4112,100.3354'"
      ]
     },
     "execution_count": 127,
     "metadata": {},
     "output_type": "execute_result"
    },
    {
     "data": {
      "text/plain": [
       "'-28.783,32.0377'"
      ]
     },
     "execution_count": 127,
     "metadata": {},
     "output_type": "execute_result"
    },
    {
     "data": {
      "text/plain": [
       "'-2.2717,40.902'"
      ]
     },
     "execution_count": 127,
     "metadata": {},
     "output_type": "execute_result"
    },
    {
     "data": {
      "text/plain": [
       "'-20.7511,-51.6783'"
      ]
     },
     "execution_count": 127,
     "metadata": {},
     "output_type": "execute_result"
    },
    {
     "data": {
      "text/plain": [
       "'-1.5746,9.2618'"
      ]
     },
     "execution_count": 127,
     "metadata": {},
     "output_type": "execute_result"
    },
    {
     "data": {
      "text/plain": [
       "'-21.6403,-41.0511'"
      ]
     },
     "execution_count": 127,
     "metadata": {},
     "output_type": "execute_result"
    },
    {
     "data": {
      "text/plain": [
       "'14.9167,120.55'"
      ]
     },
     "execution_count": 127,
     "metadata": {},
     "output_type": "execute_result"
    },
    {
     "data": {
      "text/plain": [
       "'4.95,23.9167'"
      ]
     },
     "execution_count": 127,
     "metadata": {},
     "output_type": "execute_result"
    },
    {
     "name": "stdout",
     "output_type": "stream",
     "text": [
      "No hotel here\n"
     ]
    },
    {
     "data": {
      "text/plain": [
       "'-30.1811,-50.2056'"
      ]
     },
     "execution_count": 127,
     "metadata": {},
     "output_type": "execute_result"
    },
    {
     "data": {
      "text/plain": [
       "'-33.5906,26.891'"
      ]
     },
     "execution_count": 127,
     "metadata": {},
     "output_type": "execute_result"
    },
    {
     "data": {
      "text/plain": [
       "'-31.393,-58.0209'"
      ]
     },
     "execution_count": 127,
     "metadata": {},
     "output_type": "execute_result"
    },
    {
     "data": {
      "text/plain": [
       "'-21.3393,55.4781'"
      ]
     },
     "execution_count": 127,
     "metadata": {},
     "output_type": "execute_result"
    },
    {
     "data": {
      "text/plain": [
       "'20.1986,1.0114'"
      ]
     },
     "execution_count": 127,
     "metadata": {},
     "output_type": "execute_result"
    },
    {
     "name": "stdout",
     "output_type": "stream",
     "text": [
      "No hotel here\n"
     ]
    },
    {
     "data": {
      "text/plain": [
       "'-2.4431,-54.7083'"
      ]
     },
     "execution_count": 127,
     "metadata": {},
     "output_type": "execute_result"
    },
    {
     "data": {
      "text/plain": [
       "'5.5079,10.6356'"
      ]
     },
     "execution_count": 127,
     "metadata": {},
     "output_type": "execute_result"
    },
    {
     "data": {
      "text/plain": [
       "'-18.4178,-46.4181'"
      ]
     },
     "execution_count": 127,
     "metadata": {},
     "output_type": "execute_result"
    },
    {
     "data": {
      "text/plain": [
       "'-16.5382,28.7088'"
      ]
     },
     "execution_count": 127,
     "metadata": {},
     "output_type": "execute_result"
    },
    {
     "data": {
      "text/plain": [
       "'18.0866,-67.1457'"
      ]
     },
     "execution_count": 127,
     "metadata": {},
     "output_type": "execute_result"
    },
    {
     "data": {
      "text/plain": [
       "'10.5669,72.642'"
      ]
     },
     "execution_count": 127,
     "metadata": {},
     "output_type": "execute_result"
    },
    {
     "data": {
      "text/plain": [
       "'22.6783,-3.9836'"
      ]
     },
     "execution_count": 127,
     "metadata": {},
     "output_type": "execute_result"
    },
    {
     "name": "stdout",
     "output_type": "stream",
     "text": [
      "No hotel here\n"
     ]
    },
    {
     "data": {
      "text/plain": [
       "'12.7667,-2.8833'"
      ]
     },
     "execution_count": 127,
     "metadata": {},
     "output_type": "execute_result"
    },
    {
     "data": {
      "text/plain": [
       "'-37.6167,-73.65'"
      ]
     },
     "execution_count": 127,
     "metadata": {},
     "output_type": "execute_result"
    },
    {
     "data": {
      "text/plain": [
       "'13.8065,-10.8321'"
      ]
     },
     "execution_count": 127,
     "metadata": {},
     "output_type": "execute_result"
    },
    {
     "data": {
      "text/plain": [
       "'-8.4192,20.7447'"
      ]
     },
     "execution_count": 127,
     "metadata": {},
     "output_type": "execute_result"
    },
    {
     "data": {
      "text/plain": [
       "'-32.035,-52.0986'"
      ]
     },
     "execution_count": 127,
     "metadata": {},
     "output_type": "execute_result"
    },
    {
     "data": {
      "text/plain": [
       "'-2.9506,12.7261'"
      ]
     },
     "execution_count": 127,
     "metadata": {},
     "output_type": "execute_result"
    },
    {
     "data": {
      "text/plain": [
       "'-17.7125,-39.2481'"
      ]
     },
     "execution_count": 127,
     "metadata": {},
     "output_type": "execute_result"
    },
    {
     "data": {
      "text/plain": [
       "'-36.777,-59.8585'"
      ]
     },
     "execution_count": 127,
     "metadata": {},
     "output_type": "execute_result"
    },
    {
     "data": {
      "text/plain": [
       "'-8.1642,-70.3536'"
      ]
     },
     "execution_count": 127,
     "metadata": {},
     "output_type": "execute_result"
    },
    {
     "data": {
      "text/plain": [
       "'4.2475,9.0047'"
      ]
     },
     "execution_count": 127,
     "metadata": {},
     "output_type": "execute_result"
    },
    {
     "data": {
      "text/plain": [
       "'-21.17,27.5079'"
      ]
     },
     "execution_count": 127,
     "metadata": {},
     "output_type": "execute_result"
    },
    {
     "data": {
      "text/plain": [
       "'-33.0153,27.9116'"
      ]
     },
     "execution_count": 127,
     "metadata": {},
     "output_type": "execute_result"
    },
    {
     "data": {
      "text/plain": [
       "'-33.0117,17.9442'"
      ]
     },
     "execution_count": 127,
     "metadata": {},
     "output_type": "execute_result"
    },
    {
     "data": {
      "text/plain": [
       "'5.2618,-0.759'"
      ]
     },
     "execution_count": 127,
     "metadata": {},
     "output_type": "execute_result"
    },
    {
     "data": {
      "text/plain": [
       "'8.1333,77.3'"
      ]
     },
     "execution_count": 127,
     "metadata": {},
     "output_type": "execute_result"
    },
    {
     "data": {
      "text/plain": [
       "'-33.5189,-53.3681'"
      ]
     },
     "execution_count": 127,
     "metadata": {},
     "output_type": "execute_result"
    },
    {
     "data": {
      "text/plain": [
       "'-29.9533,-71.3436'"
      ]
     },
     "execution_count": 127,
     "metadata": {},
     "output_type": "execute_result"
    },
    {
     "data": {
      "text/plain": [
       "'-34.4833,-54.3333'"
      ]
     },
     "execution_count": 127,
     "metadata": {},
     "output_type": "execute_result"
    },
    {
     "data": {
      "text/plain": [
       "'-22.9661,-42.0278'"
      ]
     },
     "execution_count": 127,
     "metadata": {},
     "output_type": "execute_result"
    },
    {
     "data": {
      "text/plain": [
       "'18.9048,-3.5265'"
      ]
     },
     "execution_count": 127,
     "metadata": {},
     "output_type": "execute_result"
    },
    {
     "name": "stdout",
     "output_type": "stream",
     "text": [
      "No hotel here\n"
     ]
    },
    {
     "data": {
      "text/plain": [
       "'-25.1667,45.05'"
      ]
     },
     "execution_count": 127,
     "metadata": {},
     "output_type": "execute_result"
    },
    {
     "name": "stdout",
     "output_type": "stream",
     "text": [
      "No hotel here\n"
     ]
    },
    {
     "data": {
      "text/plain": [
       "'3.2204,-76.3139'"
      ]
     },
     "execution_count": 127,
     "metadata": {},
     "output_type": "execute_result"
    },
    {
     "data": {
      "text/plain": [
       "'-3.7661,-49.6725'"
      ]
     },
     "execution_count": 127,
     "metadata": {},
     "output_type": "execute_result"
    },
    {
     "data": {
      "text/plain": [
       "'-28.9833,153.4167'"
      ]
     },
     "execution_count": 127,
     "metadata": {},
     "output_type": "execute_result"
    },
    {
     "data": {
      "text/plain": [
       "'-8.8368,13.2343'"
      ]
     },
     "execution_count": 127,
     "metadata": {},
     "output_type": "execute_result"
    },
    {
     "data": {
      "text/plain": [
       "'10.387,8.5726'"
      ]
     },
     "execution_count": 127,
     "metadata": {},
     "output_type": "execute_result"
    },
    {
     "name": "stdout",
     "output_type": "stream",
     "text": [
      "No hotel here\n"
     ]
    },
    {
     "data": {
      "text/plain": [
       "'22.2855,114.1577'"
      ]
     },
     "execution_count": 127,
     "metadata": {},
     "output_type": "execute_result"
    },
    {
     "data": {
      "text/plain": [
       "'18.4167,84.05'"
      ]
     },
     "execution_count": 127,
     "metadata": {},
     "output_type": "execute_result"
    },
    {
     "data": {
      "text/plain": [
       "'-20.3428,57.7575'"
      ]
     },
     "execution_count": 127,
     "metadata": {},
     "output_type": "execute_result"
    },
    {
     "data": {
      "text/plain": [
       "'7.9803,49.8164'"
      ]
     },
     "execution_count": 127,
     "metadata": {},
     "output_type": "execute_result"
    },
    {
     "data": {
      "text/plain": [
       "'-20.4711,-55.7872'"
      ]
     },
     "execution_count": 127,
     "metadata": {},
     "output_type": "execute_result"
    },
    {
     "data": {
      "text/plain": [
       "'0.15,29.2833'"
      ]
     },
     "execution_count": 127,
     "metadata": {},
     "output_type": "execute_result"
    },
    {
     "data": {
      "text/plain": [
       "'-19.9842,57.6142'"
      ]
     },
     "execution_count": 127,
     "metadata": {},
     "output_type": "execute_result"
    },
    {
     "data": {
      "text/plain": [
       "'-16.6228,-72.7111'"
      ]
     },
     "execution_count": 127,
     "metadata": {},
     "output_type": "execute_result"
    },
    {
     "data": {
      "text/plain": [
       "'5.3505,48.5268'"
      ]
     },
     "execution_count": 127,
     "metadata": {},
     "output_type": "execute_result"
    },
    {
     "data": {
      "text/plain": [
       "'11.4045,-69.6734'"
      ]
     },
     "execution_count": 127,
     "metadata": {},
     "output_type": "execute_result"
    },
    {
     "data": {
      "text/plain": [
       "'-13.7,-76.2167'"
      ]
     },
     "execution_count": 127,
     "metadata": {},
     "output_type": "execute_result"
    },
    {
     "data": {
      "text/plain": [
       "'12.0564,-61.7485'"
      ]
     },
     "execution_count": 127,
     "metadata": {},
     "output_type": "execute_result"
    },
    {
     "data": {
      "text/plain": [
       "'18.0858,-15.9785'"
      ]
     },
     "execution_count": 127,
     "metadata": {},
     "output_type": "execute_result"
    },
    {
     "data": {
      "text/plain": [
       "'11.2842,49.1816'"
      ]
     },
     "execution_count": 127,
     "metadata": {},
     "output_type": "execute_result"
    },
    {
     "data": {
      "text/plain": [
       "'-21.5394,-42.1803'"
      ]
     },
     "execution_count": 127,
     "metadata": {},
     "output_type": "execute_result"
    },
    {
     "data": {
      "text/plain": [
       "'-25.0333,46.3833'"
      ]
     },
     "execution_count": 127,
     "metadata": {},
     "output_type": "execute_result"
    },
    {
     "data": {
      "text/plain": [
       "'-31.6333,-60.7'"
      ]
     },
     "execution_count": 127,
     "metadata": {},
     "output_type": "execute_result"
    },
    {
     "data": {
      "text/plain": [
       "'14.35,121.0167'"
      ]
     },
     "execution_count": 127,
     "metadata": {},
     "output_type": "execute_result"
    },
    {
     "data": {
      "text/plain": [
       "'7.7669,-72.225'"
      ]
     },
     "execution_count": 127,
     "metadata": {},
     "output_type": "execute_result"
    },
    {
     "data": {
      "text/plain": [
       "'8.4109,20.6473'"
      ]
     },
     "execution_count": 127,
     "metadata": {},
     "output_type": "execute_result"
    },
    {
     "name": "stdout",
     "output_type": "stream",
     "text": [
      "No hotel here\n"
     ]
    },
    {
     "data": {
      "text/plain": [
       "'-1.7625,-48.8043'"
      ]
     },
     "execution_count": 127,
     "metadata": {},
     "output_type": "execute_result"
    },
    {
     "data": {
      "text/plain": [
       "'-7.9139,39.6668'"
      ]
     },
     "execution_count": 127,
     "metadata": {},
     "output_type": "execute_result"
    },
    {
     "data": {
      "text/plain": [
       "'4.8699,-2.2405'"
      ]
     },
     "execution_count": 127,
     "metadata": {},
     "output_type": "execute_result"
    },
    {
     "data": {
      "text/plain": [
       "'-1.95,18.2667'"
      ]
     },
     "execution_count": 127,
     "metadata": {},
     "output_type": "execute_result"
    },
    {
     "data": {
      "text/plain": [
       "'-34.6177,-68.3301'"
      ]
     },
     "execution_count": 127,
     "metadata": {},
     "output_type": "execute_result"
    },
    {
     "data": {
      "text/plain": [
       "'-16.92,35.262'"
      ]
     },
     "execution_count": 127,
     "metadata": {},
     "output_type": "execute_result"
    },
    {
     "data": {
      "text/plain": [
       "'13.4667,22.2'"
      ]
     },
     "execution_count": 127,
     "metadata": {},
     "output_type": "execute_result"
    },
    {
     "name": "stdout",
     "output_type": "stream",
     "text": [
      "No hotel here\n"
     ]
    },
    {
     "data": {
      "text/plain": [
       "'-9.0744,-44.3586'"
      ]
     },
     "execution_count": 127,
     "metadata": {},
     "output_type": "execute_result"
    },
    {
     "data": {
      "text/plain": [
       "'6.4965,2.6036'"
      ]
     },
     "execution_count": 127,
     "metadata": {},
     "output_type": "execute_result"
    },
    {
     "data": {
      "text/plain": [
       "'38.421,-121.4238'"
      ]
     },
     "execution_count": 127,
     "metadata": {},
     "output_type": "execute_result"
    },
    {
     "data": {
      "text/plain": [
       "'1.2313,34.2477'"
      ]
     },
     "execution_count": 127,
     "metadata": {},
     "output_type": "execute_result"
    },
    {
     "data": {
      "text/plain": [
       "'3.9366,41.867'"
      ]
     },
     "execution_count": 127,
     "metadata": {},
     "output_type": "execute_result"
    },
    {
     "data": {
      "text/plain": [
       "'-15.1961,12.1522'"
      ]
     },
     "execution_count": 127,
     "metadata": {},
     "output_type": "execute_result"
    },
    {
     "data": {
      "text/plain": [
       "'-27.4017,-51.225'"
      ]
     },
     "execution_count": 127,
     "metadata": {},
     "output_type": "execute_result"
    },
    {
     "data": {
      "text/plain": [
       "'34.5334,-82.6499'"
      ]
     },
     "execution_count": 127,
     "metadata": {},
     "output_type": "execute_result"
    },
    {
     "data": {
      "text/plain": [
       "'-21.3667,55.6167'"
      ]
     },
     "execution_count": 127,
     "metadata": {},
     "output_type": "execute_result"
    },
    {
     "data": {
      "text/plain": [
       "'9.49,76.3264'"
      ]
     },
     "execution_count": 127,
     "metadata": {},
     "output_type": "execute_result"
    },
    {
     "data": {
      "text/plain": [
       "'22.5667,59.5289'"
      ]
     },
     "execution_count": 127,
     "metadata": {},
     "output_type": "execute_result"
    },
    {
     "data": {
      "text/plain": [
       "'14.8,74.1333'"
      ]
     },
     "execution_count": 127,
     "metadata": {},
     "output_type": "execute_result"
    },
    {
     "data": {
      "text/plain": [
       "'-12.7406,-60.1458'"
      ]
     },
     "execution_count": 127,
     "metadata": {},
     "output_type": "execute_result"
    },
    {
     "data": {
      "text/plain": [
       "'-25.5333,-55.95'"
      ]
     },
     "execution_count": 127,
     "metadata": {},
     "output_type": "execute_result"
    },
    {
     "data": {
      "text/plain": [
       "'-20.0064,57.6608'"
      ]
     },
     "execution_count": 127,
     "metadata": {},
     "output_type": "execute_result"
    },
    {
     "data": {
      "text/plain": [
       "'33.072,-16.3415'"
      ]
     },
     "execution_count": 127,
     "metadata": {},
     "output_type": "execute_result"
    },
    {
     "data": {
      "text/plain": [
       "'11.5033,0.0572'"
      ]
     },
     "execution_count": 127,
     "metadata": {},
     "output_type": "execute_result"
    },
    {
     "data": {
      "text/plain": [
       "'33.7456,-117.8678'"
      ]
     },
     "execution_count": 127,
     "metadata": {},
     "output_type": "execute_result"
    },
    {
     "data": {
      "text/plain": [
       "'-5.5569,-80.8222'"
      ]
     },
     "execution_count": 127,
     "metadata": {},
     "output_type": "execute_result"
    },
    {
     "data": {
      "text/plain": [
       "'-34.0033,24.7314'"
      ]
     },
     "execution_count": 127,
     "metadata": {},
     "output_type": "execute_result"
    },
    {
     "data": {
      "text/plain": [
       "'-3.4833,23.4333'"
      ]
     },
     "execution_count": 127,
     "metadata": {},
     "output_type": "execute_result"
    },
    {
     "name": "stdout",
     "output_type": "stream",
     "text": [
      "No hotel here\n"
     ]
    },
    {
     "data": {
      "text/plain": [
       "'-20.1833,25.2333'"
      ]
     },
     "execution_count": 127,
     "metadata": {},
     "output_type": "execute_result"
    },
    {
     "data": {
      "text/plain": [
       "'-3.2778,-39.2689'"
      ]
     },
     "execution_count": 127,
     "metadata": {},
     "output_type": "execute_result"
    },
    {
     "data": {
      "text/plain": [
       "'22.1461,-80.4356'"
      ]
     },
     "execution_count": 127,
     "metadata": {},
     "output_type": "execute_result"
    },
    {
     "data": {
      "text/plain": [
       "'-15.8631,-38.8828'"
      ]
     },
     "execution_count": 127,
     "metadata": {},
     "output_type": "execute_result"
    },
    {
     "data": {
      "text/plain": [
       "'-10.3845,28.698'"
      ]
     },
     "execution_count": 127,
     "metadata": {},
     "output_type": "execute_result"
    },
    {
     "data": {
      "text/plain": [
       "'6.2262,-77.4044'"
      ]
     },
     "execution_count": 127,
     "metadata": {},
     "output_type": "execute_result"
    },
    {
     "data": {
      "text/plain": [
       "'-45.5752,-72.0662'"
      ]
     },
     "execution_count": 127,
     "metadata": {},
     "output_type": "execute_result"
    },
    {
     "data": {
      "text/plain": [
       "'-5.45,-42.3667'"
      ]
     },
     "execution_count": 127,
     "metadata": {},
     "output_type": "execute_result"
    },
    {
     "data": {
      "text/plain": [
       "'11.2833,-15.8333'"
      ]
     },
     "execution_count": 127,
     "metadata": {},
     "output_type": "execute_result"
    },
    {
     "data": {
      "text/plain": [
       "'-23.1041,26.8142'"
      ]
     },
     "execution_count": 127,
     "metadata": {},
     "output_type": "execute_result"
    },
    {
     "data": {
      "text/plain": [
       "'-2.5908,-51.9542'"
      ]
     },
     "execution_count": 127,
     "metadata": {},
     "output_type": "execute_result"
    },
    {
     "data": {
      "text/plain": [
       "'-6.9811,-34.8339'"
      ]
     },
     "execution_count": 127,
     "metadata": {},
     "output_type": "execute_result"
    },
    {
     "data": {
      "text/plain": [
       "'-45.8667,-67.5'"
      ]
     },
     "execution_count": 127,
     "metadata": {},
     "output_type": "execute_result"
    },
    {
     "data": {
      "text/plain": [
       "'-34.0527,23.3716'"
      ]
     },
     "execution_count": 127,
     "metadata": {},
     "output_type": "execute_result"
    },
    {
     "data": {
      "text/plain": [
       "'3.4568,8.5547'"
      ]
     },
     "execution_count": 127,
     "metadata": {},
     "output_type": "execute_result"
    },
    {
     "name": "stdout",
     "output_type": "stream",
     "text": [
      "No hotel here\n"
     ]
    },
    {
     "data": {
      "text/plain": [
       "'-4.1797,-38.1306'"
      ]
     },
     "execution_count": 127,
     "metadata": {},
     "output_type": "execute_result"
    },
    {
     "data": {
      "text/plain": [
       "'11.1,-2.1'"
      ]
     },
     "execution_count": 127,
     "metadata": {},
     "output_type": "execute_result"
    },
    {
     "data": {
      "text/plain": [
       "'-12.9896,-74.7205'"
      ]
     },
     "execution_count": 127,
     "metadata": {},
     "output_type": "execute_result"
    },
    {
     "data": {
      "text/plain": [
       "'-9.8756,-56.0861'"
      ]
     },
     "execution_count": 127,
     "metadata": {},
     "output_type": "execute_result"
    },
    {
     "data": {
      "text/plain": [
       "'7.3399,-2.3268'"
      ]
     },
     "execution_count": 127,
     "metadata": {},
     "output_type": "execute_result"
    },
    {
     "data": {
      "text/plain": [
       "'17.8333,82.95'"
      ]
     },
     "execution_count": 127,
     "metadata": {},
     "output_type": "execute_result"
    },
    {
     "data": {
      "text/plain": [
       "'-1.6633,-45.3717'"
      ]
     },
     "execution_count": 127,
     "metadata": {},
     "output_type": "execute_result"
    },
    {
     "data": {
      "text/plain": [
       "'6.1241,81.1185'"
      ]
     },
     "execution_count": 127,
     "metadata": {},
     "output_type": "execute_result"
    },
    {
     "data": {
      "text/plain": [
       "'-29.6643,17.8865'"
      ]
     },
     "execution_count": 127,
     "metadata": {},
     "output_type": "execute_result"
    },
    {
     "data": {
      "text/plain": [
       "'-14.4413,-67.5278'"
      ]
     },
     "execution_count": 127,
     "metadata": {},
     "output_type": "execute_result"
    },
    {
     "data": {
      "text/plain": [
       "'11.75,-2.9333'"
      ]
     },
     "execution_count": 127,
     "metadata": {},
     "output_type": "execute_result"
    },
    {
     "data": {
      "text/plain": [
       "'-28.7667,114.6'"
      ]
     },
     "execution_count": 127,
     "metadata": {},
     "output_type": "execute_result"
    },
    {
     "data": {
      "text/plain": [
       "'-11.7358,24.4293'"
      ]
     },
     "execution_count": 127,
     "metadata": {},
     "output_type": "execute_result"
    },
    {
     "data": {
      "text/plain": [
       "'-16.9478,-50.4486'"
      ]
     },
     "execution_count": 127,
     "metadata": {},
     "output_type": "execute_result"
    },
    {
     "data": {
      "text/plain": [
       "'-25.9653,32.5892'"
      ]
     },
     "execution_count": 127,
     "metadata": {},
     "output_type": "execute_result"
    },
    {
     "data": {
      "text/plain": [
       "'26.5733,50.0369'"
      ]
     },
     "execution_count": 127,
     "metadata": {},
     "output_type": "execute_result"
    },
    {
     "data": {
      "text/plain": [
       "'-20.3297,-40.2925'"
      ]
     },
     "execution_count": 127,
     "metadata": {},
     "output_type": "execute_result"
    },
    {
     "data": {
      "text/plain": [
       "'-22.8167,47.8333'"
      ]
     },
     "execution_count": 127,
     "metadata": {},
     "output_type": "execute_result"
    },
    {
     "data": {
      "text/plain": [
       "'26.452,-81.9481'"
      ]
     },
     "execution_count": 127,
     "metadata": {},
     "output_type": "execute_result"
    },
    {
     "data": {
      "text/plain": [
       "'11.472,49.8728'"
      ]
     },
     "execution_count": 127,
     "metadata": {},
     "output_type": "execute_result"
    },
    {
     "name": "stdout",
     "output_type": "stream",
     "text": [
      "No hotel here\n"
     ]
    },
    {
     "data": {
      "text/plain": [
       "'7.9986,124.2928'"
      ]
     },
     "execution_count": 127,
     "metadata": {},
     "output_type": "execute_result"
    },
    {
     "data": {
      "text/plain": [
       "'16.5833,82.0167'"
      ]
     },
     "execution_count": 127,
     "metadata": {},
     "output_type": "execute_result"
    },
    {
     "data": {
      "text/plain": [
       "'32.296,-81.2354'"
      ]
     },
     "execution_count": 127,
     "metadata": {},
     "output_type": "execute_result"
    },
    {
     "data": {
      "text/plain": [
       "'6.7085,121.9711'"
      ]
     },
     "execution_count": 127,
     "metadata": {},
     "output_type": "execute_result"
    },
    {
     "data": {
      "text/plain": [
       "'5.8808,-10.0467'"
      ]
     },
     "execution_count": 127,
     "metadata": {},
     "output_type": "execute_result"
    },
    {
     "data": {
      "text/plain": [
       "'4.375,-7.7169'"
      ]
     },
     "execution_count": 127,
     "metadata": {},
     "output_type": "execute_result"
    },
    {
     "data": {
      "text/plain": [
       "'-24.7,44.75'"
      ]
     },
     "execution_count": 127,
     "metadata": {},
     "output_type": "execute_result"
    },
    {
     "data": {
      "text/plain": [
       "'-14.3167,-67.3833'"
      ]
     },
     "execution_count": 127,
     "metadata": {},
     "output_type": "execute_result"
    },
    {
     "name": "stdout",
     "output_type": "stream",
     "text": [
      "No hotel here\n"
     ]
    },
    {
     "data": {
      "text/plain": [
       "'7.9178,98.3332'"
      ]
     },
     "execution_count": 127,
     "metadata": {},
     "output_type": "execute_result"
    },
    {
     "data": {
      "text/plain": [
       "'-5.1989,-35.4608'"
      ]
     },
     "execution_count": 127,
     "metadata": {},
     "output_type": "execute_result"
    },
    {
     "data": {
      "text/plain": [
       "'4.423,-7.3528'"
      ]
     },
     "execution_count": 127,
     "metadata": {},
     "output_type": "execute_result"
    },
    {
     "data": {
      "text/plain": [
       "'-17.8786,36.8883'"
      ]
     },
     "execution_count": 127,
     "metadata": {},
     "output_type": "execute_result"
    },
    {
     "data": {
      "text/plain": [
       "'-20.5167,57.5167'"
      ]
     },
     "execution_count": 127,
     "metadata": {},
     "output_type": "execute_result"
    },
    {
     "data": {
      "text/plain": [
       "'-9.7667,37.9333'"
      ]
     },
     "execution_count": 127,
     "metadata": {},
     "output_type": "execute_result"
    },
    {
     "data": {
      "text/plain": [
       "'-41.1456,-71.3082'"
      ]
     },
     "execution_count": 127,
     "metadata": {},
     "output_type": "execute_result"
    },
    {
     "data": {
      "text/plain": [
       "'17.8868,-77.5902'"
      ]
     },
     "execution_count": 127,
     "metadata": {},
     "output_type": "execute_result"
    },
    {
     "data": {
      "text/plain": [
       "'16.7833,80.85'"
      ]
     },
     "execution_count": 127,
     "metadata": {},
     "output_type": "execute_result"
    },
    {
     "data": {
      "text/plain": [
       "'-36.3132,-57.6792'"
      ]
     },
     "execution_count": 127,
     "metadata": {},
     "output_type": "execute_result"
    },
    {
     "data": {
      "text/plain": [
       "'4.95,-6.0833'"
      ]
     },
     "execution_count": 127,
     "metadata": {},
     "output_type": "execute_result"
    },
    {
     "data": {
      "text/plain": [
       "'7.4167,81.8167'"
      ]
     },
     "execution_count": 127,
     "metadata": {},
     "output_type": "execute_result"
    },
    {
     "data": {
      "text/plain": [
       "'4.1363,96.1285'"
      ]
     },
     "execution_count": 127,
     "metadata": {},
     "output_type": "execute_result"
    },
    {
     "data": {
      "text/plain": [
       "'-3.7703,-70.3831'"
      ]
     },
     "execution_count": 127,
     "metadata": {},
     "output_type": "execute_result"
    },
    {
     "data": {
      "text/plain": [
       "'14.5333,20.9167'"
      ]
     },
     "execution_count": 127,
     "metadata": {},
     "output_type": "execute_result"
    },
    {
     "data": {
      "text/plain": [
       "'2.6708,72.8944'"
      ]
     },
     "execution_count": 127,
     "metadata": {},
     "output_type": "execute_result"
    },
    {
     "data": {
      "text/plain": [
       "'-11.3847,43.2844'"
      ]
     },
     "execution_count": 127,
     "metadata": {},
     "output_type": "execute_result"
    },
    {
     "data": {
      "text/plain": [
       "'23.3167,88.65'"
      ]
     },
     "execution_count": 127,
     "metadata": {},
     "output_type": "execute_result"
    },
    {
     "data": {
      "text/plain": [
       "'8.0777,22.4007'"
      ]
     },
     "execution_count": 127,
     "metadata": {},
     "output_type": "execute_result"
    },
    {
     "name": "stdout",
     "output_type": "stream",
     "text": [
      "No hotel here\n"
     ]
    },
    {
     "data": {
      "text/plain": [
       "'17.3333,42.6667'"
      ]
     },
     "execution_count": 127,
     "metadata": {},
     "output_type": "execute_result"
    },
    {
     "data": {
      "text/plain": [
       "'-15.7167,46.3167'"
      ]
     },
     "execution_count": 127,
     "metadata": {},
     "output_type": "execute_result"
    },
    {
     "data": {
      "text/plain": [
       "'27.6753,-80.4092'"
      ]
     },
     "execution_count": 127,
     "metadata": {},
     "output_type": "execute_result"
    },
    {
     "data": {
      "text/plain": [
       "'-33.081,-68.4681'"
      ]
     },
     "execution_count": 127,
     "metadata": {},
     "output_type": "execute_result"
    },
    {
     "data": {
      "text/plain": [
       "'10.2511,-74.9146'"
      ]
     },
     "execution_count": 127,
     "metadata": {},
     "output_type": "execute_result"
    },
    {
     "data": {
      "text/plain": [
       "'-1.7656,-55.8661'"
      ]
     },
     "execution_count": 127,
     "metadata": {},
     "output_type": "execute_result"
    },
    {
     "data": {
      "text/plain": [
       "'-5.3,36.5667'"
      ]
     },
     "execution_count": 127,
     "metadata": {},
     "output_type": "execute_result"
    },
    {
     "data": {
      "text/plain": [
       "'12.5847,-81.7006'"
      ]
     },
     "execution_count": 127,
     "metadata": {},
     "output_type": "execute_result"
    },
    {
     "data": {
      "text/plain": [
       "'-24.0833,-55.5'"
      ]
     },
     "execution_count": 127,
     "metadata": {},
     "output_type": "execute_result"
    },
    {
     "name": "stdout",
     "output_type": "stream",
     "text": [
      "No hotel here\n"
     ]
    },
    {
     "data": {
      "text/plain": [
       "'18.4167,-64.6167'"
      ]
     },
     "execution_count": 127,
     "metadata": {},
     "output_type": "execute_result"
    },
    {
     "data": {
      "text/plain": [
       "'6.5423,21.9863'"
      ]
     },
     "execution_count": 127,
     "metadata": {},
     "output_type": "execute_result"
    },
    {
     "data": {
      "text/plain": [
       "'-27.6146,-48.5012'"
      ]
     },
     "execution_count": 127,
     "metadata": {},
     "output_type": "execute_result"
    },
    {
     "data": {
      "text/plain": [
       "'18.217,-63.0578'"
      ]
     },
     "execution_count": 127,
     "metadata": {},
     "output_type": "execute_result"
    },
    {
     "data": {
      "text/plain": [
       "'9.4092,45.064'"
      ]
     },
     "execution_count": 127,
     "metadata": {},
     "output_type": "execute_result"
    },
    {
     "data": {
      "text/plain": [
       "'6.3005,-10.7969'"
      ]
     },
     "execution_count": 127,
     "metadata": {},
     "output_type": "execute_result"
    },
    {
     "data": {
      "text/plain": [
       "'20.9524,72.9324'"
      ]
     },
     "execution_count": 127,
     "metadata": {},
     "output_type": "execute_result"
    },
    {
     "data": {
      "text/plain": [
       "'3.8093,43.2471'"
      ]
     },
     "execution_count": 127,
     "metadata": {},
     "output_type": "execute_result"
    },
    {
     "data": {
      "text/plain": [
       "'-3.8004,102.2655'"
      ]
     },
     "execution_count": 127,
     "metadata": {},
     "output_type": "execute_result"
    },
    {
     "data": {
      "text/plain": [
       "'12.485,-16.5469'"
      ]
     },
     "execution_count": 127,
     "metadata": {},
     "output_type": "execute_result"
    },
    {
     "data": {
      "text/plain": [
       "'13.35,-15.75'"
      ]
     },
     "execution_count": 127,
     "metadata": {},
     "output_type": "execute_result"
    },
    {
     "name": "stdout",
     "output_type": "stream",
     "text": [
      "No hotel here\n"
     ]
    },
    {
     "data": {
      "text/plain": [
       "'18.2342,-72.5347'"
      ]
     },
     "execution_count": 127,
     "metadata": {},
     "output_type": "execute_result"
    },
    {
     "data": {
      "text/plain": [
       "'10.4762,-66.5427'"
      ]
     },
     "execution_count": 127,
     "metadata": {},
     "output_type": "execute_result"
    },
    {
     "data": {
      "text/plain": [
       "'15.0584,43.2851'"
      ]
     },
     "execution_count": 127,
     "metadata": {},
     "output_type": "execute_result"
    },
    {
     "data": {
      "text/plain": [
       "'22.9333,57.5333'"
      ]
     },
     "execution_count": 127,
     "metadata": {},
     "output_type": "execute_result"
    },
    {
     "data": {
      "text/plain": [
       "'18.451,-78.1736'"
      ]
     },
     "execution_count": 127,
     "metadata": {},
     "output_type": "execute_result"
    },
    {
     "data": {
      "text/plain": [
       "'-1.8041,37.6203'"
      ]
     },
     "execution_count": 127,
     "metadata": {},
     "output_type": "execute_result"
    },
    {
     "data": {
      "text/plain": [
       "'-40.8135,-62.9967'"
      ]
     },
     "execution_count": 127,
     "metadata": {},
     "output_type": "execute_result"
    },
    {
     "data": {
      "text/plain": [
       "'-34.6534,-58.6198'"
      ]
     },
     "execution_count": 127,
     "metadata": {},
     "output_type": "execute_result"
    },
    {
     "data": {
      "text/plain": [
       "'20.9881,-77.4297'"
      ]
     },
     "execution_count": 127,
     "metadata": {},
     "output_type": "execute_result"
    },
    {
     "data": {
      "text/plain": [
       "'3.25,19.7667'"
      ]
     },
     "execution_count": 127,
     "metadata": {},
     "output_type": "execute_result"
    },
    {
     "data": {
      "text/plain": [
       "'-10.9492,-75.2261'"
      ]
     },
     "execution_count": 127,
     "metadata": {},
     "output_type": "execute_result"
    },
    {
     "data": {
      "text/plain": [
       "'13.5167,35.7667'"
      ]
     },
     "execution_count": 127,
     "metadata": {},
     "output_type": "execute_result"
    },
    {
     "name": "stdout",
     "output_type": "stream",
     "text": [
      "No hotel here\n"
     ]
    },
    {
     "data": {
      "text/plain": [
       "'37.9333,-121.3011'"
      ]
     },
     "execution_count": 127,
     "metadata": {},
     "output_type": "execute_result"
    },
    {
     "data": {
      "text/plain": [
       "'9.4942,50.8122'"
      ]
     },
     "execution_count": 127,
     "metadata": {},
     "output_type": "execute_result"
    },
    {
     "data": {
      "text/plain": [
       "'-0.2167,20.8667'"
      ]
     },
     "execution_count": 127,
     "metadata": {},
     "output_type": "execute_result"
    },
    {
     "name": "stdout",
     "output_type": "stream",
     "text": [
      "No hotel here\n"
     ]
    },
    {
     "data": {
      "text/plain": [
       "'20.9,70.3667'"
      ]
     },
     "execution_count": 127,
     "metadata": {},
     "output_type": "execute_result"
    },
    {
     "data": {
      "text/plain": [
       "'6.7297,-3.4964'"
      ]
     },
     "execution_count": 127,
     "metadata": {},
     "output_type": "execute_result"
    },
    {
     "data": {
      "text/plain": [
       "'-28.24,-48.6703'"
      ]
     },
     "execution_count": 127,
     "metadata": {},
     "output_type": "execute_result"
    },
    {
     "data": {
      "text/plain": [
       "'-2.8856,-40.12'"
      ]
     },
     "execution_count": 127,
     "metadata": {},
     "output_type": "execute_result"
    },
    {
     "data": {
      "text/plain": [
       "'20.5169,-13.0499'"
      ]
     },
     "execution_count": 127,
     "metadata": {},
     "output_type": "execute_result"
    },
    {
     "data": {
      "text/plain": [
       "'-3.1019,-60.025'"
      ]
     },
     "execution_count": 127,
     "metadata": {},
     "output_type": "execute_result"
    },
    {
     "data": {
      "text/plain": [
       "'10.1483,-85.452'"
      ]
     },
     "execution_count": 127,
     "metadata": {},
     "output_type": "execute_result"
    },
    {
     "data": {
      "text/plain": [
       "'3.9833,13.1833'"
      ]
     },
     "execution_count": 127,
     "metadata": {},
     "output_type": "execute_result"
    },
    {
     "data": {
      "text/plain": [
       "'-17.3019,31.3306'"
      ]
     },
     "execution_count": 127,
     "metadata": {},
     "output_type": "execute_result"
    },
    {
     "data": {
      "text/plain": [
       "'14.0,-11.0'"
      ]
     },
     "execution_count": 127,
     "metadata": {},
     "output_type": "execute_result"
    },
    {
     "name": "stdout",
     "output_type": "stream",
     "text": [
      "No hotel here\n"
     ]
    },
    {
     "data": {
      "text/plain": [
       "'-6.5742,-76.1367'"
      ]
     },
     "execution_count": 127,
     "metadata": {},
     "output_type": "execute_result"
    },
    {
     "data": {
      "text/plain": [
       "'7.5264,-12.505'"
      ]
     },
     "execution_count": 127,
     "metadata": {},
     "output_type": "execute_result"
    },
    {
     "data": {
      "text/plain": [
       "'8.0086,-62.3989'"
      ]
     },
     "execution_count": 127,
     "metadata": {},
     "output_type": "execute_result"
    },
    {
     "data": {
      "text/plain": [
       "'10.9878,-74.9547'"
      ]
     },
     "execution_count": 127,
     "metadata": {},
     "output_type": "execute_result"
    },
    {
     "data": {
      "text/plain": [
       "'14.4833,79.9833'"
      ]
     },
     "execution_count": 127,
     "metadata": {},
     "output_type": "execute_result"
    },
    {
     "data": {
      "text/plain": [
       "'0.8102,24.4336'"
      ]
     },
     "execution_count": 127,
     "metadata": {},
     "output_type": "execute_result"
    },
    {
     "name": "stdout",
     "output_type": "stream",
     "text": [
      "No hotel here\n"
     ]
    },
    {
     "data": {
      "text/plain": [
       "'-2.5447,14.7533'"
      ]
     },
     "execution_count": 127,
     "metadata": {},
     "output_type": "execute_result"
    },
    {
     "data": {
      "text/plain": [
       "'-8.1711,-79.0092'"
      ]
     },
     "execution_count": 127,
     "metadata": {},
     "output_type": "execute_result"
    },
    {
     "data": {
      "text/plain": [
       "'19.35,83.7833'"
      ]
     },
     "execution_count": 127,
     "metadata": {},
     "output_type": "execute_result"
    },
    {
     "data": {
      "text/plain": [
       "'-12.5763,13.4055'"
      ]
     },
     "execution_count": 127,
     "metadata": {},
     "output_type": "execute_result"
    },
    {
     "data": {
      "text/plain": [
       "'-38.5473,-58.7368'"
      ]
     },
     "execution_count": 127,
     "metadata": {},
     "output_type": "execute_result"
    },
    {
     "data": {
      "text/plain": [
       "'22.5206,-79.4669'"
      ]
     },
     "execution_count": 127,
     "metadata": {},
     "output_type": "execute_result"
    },
    {
     "data": {
      "text/plain": [
       "'-1.195,-46.02'"
      ]
     },
     "execution_count": 127,
     "metadata": {},
     "output_type": "execute_result"
    },
    {
     "data": {
      "text/plain": [
       "'-10.3353,-67.1856'"
      ]
     },
     "execution_count": 127,
     "metadata": {},
     "output_type": "execute_result"
    },
    {
     "data": {
      "text/plain": [
       "'-6.4333,39.55'"
      ]
     },
     "execution_count": 127,
     "metadata": {},
     "output_type": "execute_result"
    },
    {
     "data": {
      "text/plain": [
       "'-8.7619,-63.9039'"
      ]
     },
     "execution_count": 127,
     "metadata": {},
     "output_type": "execute_result"
    },
    {
     "data": {
      "text/plain": [
       "'-3.3167,17.3667'"
      ]
     },
     "execution_count": 127,
     "metadata": {},
     "output_type": "execute_result"
    },
    {
     "data": {
      "text/plain": [
       "'-26.3667,-70.05'"
      ]
     },
     "execution_count": 127,
     "metadata": {},
     "output_type": "execute_result"
    },
    {
     "data": {
      "text/plain": [
       "'-29.0642,30.5928'"
      ]
     },
     "execution_count": 127,
     "metadata": {},
     "output_type": "execute_result"
    },
    {
     "data": {
      "text/plain": [
       "'13.5691,33.5672'"
      ]
     },
     "execution_count": 127,
     "metadata": {},
     "output_type": "execute_result"
    },
    {
     "data": {
      "text/plain": [
       "'-22.3708,-41.7869'"
      ]
     },
     "execution_count": 127,
     "metadata": {},
     "output_type": "execute_result"
    },
    {
     "data": {
      "text/plain": [
       "'-23.4,21.7167'"
      ]
     },
     "execution_count": 127,
     "metadata": {},
     "output_type": "execute_result"
    },
    {
     "name": "stdout",
     "output_type": "stream",
     "text": [
      "No hotel here\n"
     ]
    },
    {
     "data": {
      "text/plain": [
       "'-9.0122,-35.2225'"
      ]
     },
     "execution_count": 127,
     "metadata": {},
     "output_type": "execute_result"
    },
    {
     "data": {
      "text/plain": [
       "'-41.8697,-73.8203'"
      ]
     },
     "execution_count": 127,
     "metadata": {},
     "output_type": "execute_result"
    },
    {
     "data": {
      "text/plain": [
       "'2.7739,27.616'"
      ]
     },
     "execution_count": 127,
     "metadata": {},
     "output_type": "execute_result"
    },
    {
     "data": {
      "text/plain": [
       "'-3.7481,-73.2472'"
      ]
     },
     "execution_count": 127,
     "metadata": {},
     "output_type": "execute_result"
    },
    {
     "data": {
      "text/plain": [
       "'8.25,34.5833'"
      ]
     },
     "execution_count": 127,
     "metadata": {},
     "output_type": "execute_result"
    },
    {
     "data": {
      "text/plain": [
       "'-0.95,-80.7333'"
      ]
     },
     "execution_count": 127,
     "metadata": {},
     "output_type": "execute_result"
    },
    {
     "data": {
      "text/plain": [
       "'-31.2503,-61.4867'"
      ]
     },
     "execution_count": 127,
     "metadata": {},
     "output_type": "execute_result"
    },
    {
     "data": {
      "text/plain": [
       "'21.1167,70.1167'"
      ]
     },
     "execution_count": 127,
     "metadata": {},
     "output_type": "execute_result"
    },
    {
     "data": {
      "text/plain": [
       "'-4.3878,-59.5939'"
      ]
     },
     "execution_count": 127,
     "metadata": {},
     "output_type": "execute_result"
    },
    {
     "data": {
      "text/plain": [
       "'-24.0058,-48.3494'"
      ]
     },
     "execution_count": 127,
     "metadata": {},
     "output_type": "execute_result"
    },
    {
     "data": {
      "text/plain": [
       "'6.4635,-2.3194'"
      ]
     },
     "execution_count": 127,
     "metadata": {},
     "output_type": "execute_result"
    },
    {
     "data": {
      "text/plain": [
       "'-14.7972,-57.2881'"
      ]
     },
     "execution_count": 127,
     "metadata": {},
     "output_type": "execute_result"
    },
    {
     "data": {
      "text/plain": [
       "'10.4396,45.0143'"
      ]
     },
     "execution_count": 127,
     "metadata": {},
     "output_type": "execute_result"
    },
    {
     "data": {
      "text/plain": [
       "'20.5022,-10.0711'"
      ]
     },
     "execution_count": 127,
     "metadata": {},
     "output_type": "execute_result"
    },
    {
     "name": "stdout",
     "output_type": "stream",
     "text": [
      "No hotel here\n"
     ]
    },
    {
     "data": {
      "text/plain": [
       "'-13.2,49.05'"
      ]
     },
     "execution_count": 127,
     "metadata": {},
     "output_type": "execute_result"
    },
    {
     "data": {
      "text/plain": [
       "'25.2867,51.5333'"
      ]
     },
     "execution_count": 127,
     "metadata": {},
     "output_type": "execute_result"
    },
    {
     "data": {
      "text/plain": [
       "'-24.8667,113.6333'"
      ]
     },
     "execution_count": 127,
     "metadata": {},
     "output_type": "execute_result"
    },
    {
     "data": {
      "text/plain": [
       "'3.4836,34.1492'"
      ]
     },
     "execution_count": 127,
     "metadata": {},
     "output_type": "execute_result"
    },
    {
     "data": {
      "text/html": [
       "<div>\n",
       "<style scoped>\n",
       "    .dataframe tbody tr th:only-of-type {\n",
       "        vertical-align: middle;\n",
       "    }\n",
       "\n",
       "    .dataframe tbody tr th {\n",
       "        vertical-align: top;\n",
       "    }\n",
       "\n",
       "    .dataframe thead th {\n",
       "        text-align: right;\n",
       "    }\n",
       "</style>\n",
       "<table border=\"1\" class=\"dataframe\">\n",
       "  <thead>\n",
       "    <tr style=\"text-align: right;\">\n",
       "      <th></th>\n",
       "      <th>City</th>\n",
       "      <th>Country</th>\n",
       "      <th>Max Temp</th>\n",
       "      <th>Lat</th>\n",
       "      <th>Lng</th>\n",
       "      <th>Hotel Name</th>\n",
       "    </tr>\n",
       "  </thead>\n",
       "  <tbody>\n",
       "    <tr>\n",
       "      <th>0</th>\n",
       "      <td>Talara</td>\n",
       "      <td>PE</td>\n",
       "      <td>74.16</td>\n",
       "      <td>-4.5772</td>\n",
       "      <td>-81.2719</td>\n",
       "      <td>Hostal Oro Negro</td>\n",
       "    </tr>\n",
       "    <tr>\n",
       "      <th>1</th>\n",
       "      <td>Cape Town</td>\n",
       "      <td>ZA</td>\n",
       "      <td>68.41</td>\n",
       "      <td>-33.9258</td>\n",
       "      <td>18.4232</td>\n",
       "      <td>Southern Sun Waterfront Cape Town</td>\n",
       "    </tr>\n",
       "    <tr>\n",
       "      <th>2</th>\n",
       "      <td>Dembi Dolo</td>\n",
       "      <td>ET</td>\n",
       "      <td>68.38</td>\n",
       "      <td>8.5333</td>\n",
       "      <td>34.8000</td>\n",
       "      <td>Dembi dollo plaza</td>\n",
       "    </tr>\n",
       "    <tr>\n",
       "      <th>6</th>\n",
       "      <td>Port Elizabeth</td>\n",
       "      <td>ZA</td>\n",
       "      <td>69.10</td>\n",
       "      <td>-33.9180</td>\n",
       "      <td>25.5701</td>\n",
       "      <td>39 On Nile Guest House</td>\n",
       "    </tr>\n",
       "    <tr>\n",
       "      <th>9</th>\n",
       "      <td>Lima</td>\n",
       "      <td>PE</td>\n",
       "      <td>75.90</td>\n",
       "      <td>-12.0432</td>\n",
       "      <td>-77.0282</td>\n",
       "      <td>Gran Hotel Bolivar Lima</td>\n",
       "    </tr>\n",
       "    <tr>\n",
       "      <th>...</th>\n",
       "      <td>...</td>\n",
       "      <td>...</td>\n",
       "      <td>...</td>\n",
       "      <td>...</td>\n",
       "      <td>...</td>\n",
       "      <td>...</td>\n",
       "    </tr>\n",
       "    <tr>\n",
       "      <th>570</th>\n",
       "      <td>Adrar</td>\n",
       "      <td>MR</td>\n",
       "      <td>70.75</td>\n",
       "      <td>20.5022</td>\n",
       "      <td>-10.0711</td>\n",
       "      <td>NaN</td>\n",
       "    </tr>\n",
       "    <tr>\n",
       "      <th>571</th>\n",
       "      <td>Ambilobe</td>\n",
       "      <td>MG</td>\n",
       "      <td>72.34</td>\n",
       "      <td>-13.2000</td>\n",
       "      <td>49.0500</td>\n",
       "      <td>Hôtel &amp; Restaurant DIANA Ambilobe</td>\n",
       "    </tr>\n",
       "    <tr>\n",
       "      <th>572</th>\n",
       "      <td>Doha</td>\n",
       "      <td>QA</td>\n",
       "      <td>62.49</td>\n",
       "      <td>25.2867</td>\n",
       "      <td>51.5333</td>\n",
       "      <td>Movenpick Hotel Doha</td>\n",
       "    </tr>\n",
       "    <tr>\n",
       "      <th>574</th>\n",
       "      <td>Carnarvon</td>\n",
       "      <td>AU</td>\n",
       "      <td>73.47</td>\n",
       "      <td>-24.8667</td>\n",
       "      <td>113.6333</td>\n",
       "      <td>Hospitality Carnarvon</td>\n",
       "    </tr>\n",
       "    <tr>\n",
       "      <th>576</th>\n",
       "      <td>Kaabong</td>\n",
       "      <td>UG</td>\n",
       "      <td>69.55</td>\n",
       "      <td>3.4836</td>\n",
       "      <td>34.1492</td>\n",
       "      <td>Rock Motel Ltd</td>\n",
       "    </tr>\n",
       "  </tbody>\n",
       "</table>\n",
       "<p>285 rows × 6 columns</p>\n",
       "</div>"
      ],
      "text/plain": [
       "               City Country  Max Temp      Lat       Lng  \\\n",
       "0            Talara      PE     74.16  -4.5772  -81.2719   \n",
       "1         Cape Town      ZA     68.41 -33.9258   18.4232   \n",
       "2        Dembi Dolo      ET     68.38   8.5333   34.8000   \n",
       "6    Port Elizabeth      ZA     69.10 -33.9180   25.5701   \n",
       "9              Lima      PE     75.90 -12.0432  -77.0282   \n",
       "..              ...     ...       ...      ...       ...   \n",
       "570           Adrar      MR     70.75  20.5022  -10.0711   \n",
       "571        Ambilobe      MG     72.34 -13.2000   49.0500   \n",
       "572            Doha      QA     62.49  25.2867   51.5333   \n",
       "574       Carnarvon      AU     73.47 -24.8667  113.6333   \n",
       "576         Kaabong      UG     69.55   3.4836   34.1492   \n",
       "\n",
       "                            Hotel Name  \n",
       "0                     Hostal Oro Negro  \n",
       "1    Southern Sun Waterfront Cape Town  \n",
       "2                    Dembi dollo plaza  \n",
       "6               39 On Nile Guest House  \n",
       "9              Gran Hotel Bolivar Lima  \n",
       "..                                 ...  \n",
       "570                                NaN  \n",
       "571  Hôtel & Restaurant DIANA Ambilobe  \n",
       "572               Movenpick Hotel Doha  \n",
       "574              Hospitality Carnarvon  \n",
       "576                     Rock Motel Ltd  \n",
       "\n",
       "[285 rows x 6 columns]"
      ]
     },
     "execution_count": 127,
     "metadata": {},
     "output_type": "execute_result"
    }
   ],
   "source": [
    "payload = {\n",
    "    \"radius\": 5000,\n",
    "    \"type\": \"lodging\",\n",
    "    \"key\": gkey}\n",
    "# hotels = requests.get('https://maps.googleapis.com/maps/api/place/nearbysearch/json', params=payload)\n",
    "# hotels.json()\n",
    "for i, row in hotel_df.iterrows():\n",
    "    try:\n",
    "        lat = row['Lat']\n",
    "        lng = row['Lng']\n",
    "        payload['location'] = f'{lat},{lng}'\n",
    "        payload['location']\n",
    "        base_url = 'https://maps.googleapis.com/maps/api/place/nearbysearch/json'\n",
    "        hotels = requests.get(base_url, params=payload).json()\n",
    "        hotel_df.loc[i,'Hotel Name'] = hotels['results'][0]['name']\n",
    "    except IndexError:\n",
    "        print('No hotel here')\n",
    "        pass\n",
    "hotel_df\n"
   ]
  },
  {
   "cell_type": "code",
   "execution_count": 131,
   "id": "6224412b",
   "metadata": {},
   "outputs": [
    {
     "ename": "SyntaxError",
     "evalue": "invalid syntax (Temp/ipykernel_10928/574655309.py, line 15)",
     "output_type": "error",
     "traceback": [
      "\u001b[1;36m  File \u001b[1;32m\"C:\\Users\\Johns\\AppData\\Local\\Temp/ipykernel_10928/574655309.py\"\u001b[1;36m, line \u001b[1;32m15\u001b[0m\n\u001b[1;33m    new google.maps.Size(42,68)\u001b[0m\n\u001b[1;37m             ^\u001b[0m\n\u001b[1;31mSyntaxError\u001b[0m\u001b[1;31m:\u001b[0m invalid syntax\n"
     ]
    }
   ],
   "source": [
    "info_box_template = \"\"\"\n",
    "<dl>\n",
    "<dt>Location</dt><dd>{City}</dd>\n",
    "<dt>Temperature</dt><dd>{Max Temp} °F</dd>\n",
    "</dl>\n",
    "\"\"\"\n",
    "fig = gmaps.figure(center=(30,31), zoom_level=1.5)\n",
    "locations = hotel_df[['Lat', 'Lng']]\n",
    "weights = hotel_df['Max Temp']\n",
    "heat_layer = gmaps.heatmap_layer(locations, weights=weights,dissipating=False, max_intensity=300, point_radius=4.5)\n",
    "hotel_info = [info_box_template.format(**rows) for index, rows in hotel_df.iterrows()]\n",
    "marker_layer = gmaps.marker_layer(locations, info_box_content=hotel_info)\n",
    "fig.add_layer(heat_layer)\n",
    "fig.add_layer(marker_layer)\n",
    "fig"
   ]
  },
  {
   "cell_type": "code",
   "execution_count": null,
   "id": "a3ae40c3",
   "metadata": {},
   "outputs": [],
   "source": []
  }
 ],
 "metadata": {
  "kernelspec": {
   "display_name": "PythonData",
   "language": "python",
   "name": "pythondata"
  },
  "language_info": {
   "codemirror_mode": {
    "name": "ipython",
    "version": 3
   },
   "file_extension": ".py",
   "mimetype": "text/x-python",
   "name": "python",
   "nbconvert_exporter": "python",
   "pygments_lexer": "ipython3",
   "version": "3.7.11"
  }
 },
 "nbformat": 4,
 "nbformat_minor": 5
}
